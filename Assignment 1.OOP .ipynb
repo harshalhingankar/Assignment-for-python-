{
 "cells": [
  {
   "cell_type": "markdown",
   "id": "1c8e7364-5237-4673-8960-33df5f4dcb14",
   "metadata": {},
   "source": [
    "### Problem 1: Bank Account Create a class representing a bank account with attributes like account number, account holder name, and balance. Implement methods to deposit and withdraw money from the account."
   ]
  },
  {
   "cell_type": "code",
   "execution_count": 1,
   "id": "ba3e0749-c048-478e-8140-51f00fa450b1",
   "metadata": {},
   "outputs": [
    {
     "name": "stdout",
     "output_type": "stream",
     "text": [
      "Deposited $1000. New balance: $1000\n",
      "Withdrew $500. New balance: $500\n"
     ]
    }
   ],
   "source": [
    "class BankAccount:\n",
    "    def __init__(self, account_number, account_holder, balance=0):\n",
    "        self.account_number = account_number\n",
    "        self.account_holder = account_holder\n",
    "        self.balance = balance\n",
    "\n",
    "    def deposit(self, amount):\n",
    "        self.balance += amount\n",
    "        print(f\"Deposited ${amount}. New balance: ${self.balance}\")\n",
    "\n",
    "    def withdraw(self, amount):\n",
    "        if amount <= self.balance:\n",
    "            self.balance -= amount\n",
    "            print(f\"Withdrew ${amount}. New balance: ${self.balance}\")\n",
    "        else:\n",
    "            print(\"Insufficient funds\")\n",
    "\n",
    "# Example usage:\n",
    "account = BankAccount(\"123456\", \"John Doe\")\n",
    "account.deposit(1000)\n",
    "account.withdraw(500)\n"
   ]
  },
  {
   "cell_type": "markdown",
   "id": "fa6281d9-c0de-4251-9309-8ab699fe3e5e",
   "metadata": {},
   "source": [
    "### Problem 2: Employee Management Create a class representing an employee with attributes like employee ID, name, and salary. Implement methods to calculate the yearly bonus and display employee details."
   ]
  },
  {
   "cell_type": "code",
   "execution_count": 2,
   "id": "07e2babf-1db3-4ccd-b39a-a6a44c0353ba",
   "metadata": {},
   "outputs": [
    {
     "name": "stdout",
     "output_type": "stream",
     "text": [
      "Employee ID: E001\n",
      "Name: Alice\n",
      "Salary: $50000\n",
      "Yearly Bonus: $5000.0\n"
     ]
    }
   ],
   "source": [
    "class Employee:\n",
    "    def __init__(self, employee_id, name, salary):\n",
    "        self.employee_id = employee_id\n",
    "        self.name = name\n",
    "        self.salary = salary\n",
    "\n",
    "    def calculate_bonus(self):\n",
    "        return self.salary * 0.1  # Assuming a bonus of 10%\n",
    "\n",
    "    def display_details(self):\n",
    "        print(f\"Employee ID: {self.employee_id}\")\n",
    "        print(f\"Name: {self.name}\")\n",
    "        print(f\"Salary: ${self.salary}\")\n",
    "\n",
    "# Example usage:\n",
    "employee = Employee(\"E001\", \"Alice\", 50000)\n",
    "bonus = employee.calculate_bonus()\n",
    "employee.display_details()\n",
    "print(f\"Yearly Bonus: ${bonus}\")\n"
   ]
  },
  {
   "cell_type": "markdown",
   "id": "616e9031-d971-4320-90a1-b0f40e3a9cc2",
   "metadata": {},
   "source": [
    "### Problem 3: Vehicle Rental Create a class representing a vehicle rental system. Implement methods to rent a vehicle, return a vehicle, and display available vehicles.\n"
   ]
  },
  {
   "cell_type": "code",
   "execution_count": 3,
   "id": "e1bc7efc-cf54-4a40-995e-ff0795bd760e",
   "metadata": {},
   "outputs": [
    {
     "name": "stdout",
     "output_type": "stream",
     "text": [
      "Available Vehicles:\n",
      "Car2\n",
      "Car1\n",
      "Bike1\n",
      "Vehicle Car1 rented successfully.\n",
      "Available Vehicles:\n",
      "Car2\n",
      "Bike1\n",
      "Vehicle Car1 returned.\n",
      "Available Vehicles:\n",
      "Car2\n",
      "Car1\n",
      "Bike1\n"
     ]
    }
   ],
   "source": [
    "class VehicleRental:\n",
    "    def __init__(self):\n",
    "        self.available_vehicles = set()\n",
    "\n",
    "    def rent_vehicle(self, vehicle):\n",
    "        if vehicle in self.available_vehicles:\n",
    "            self.available_vehicles.remove(vehicle)\n",
    "            print(f\"Vehicle {vehicle} rented successfully.\")\n",
    "        else:\n",
    "            print(\"Vehicle not available for rent.\")\n",
    "\n",
    "    def return_vehicle(self, vehicle):\n",
    "        self.available_vehicles.add(vehicle)\n",
    "        print(f\"Vehicle {vehicle} returned.\")\n",
    "\n",
    "    def display_available_vehicles(self):\n",
    "        print(\"Available Vehicles:\")\n",
    "        for vehicle in self.available_vehicles:\n",
    "            print(vehicle)\n",
    "\n",
    "# Example usage:\n",
    "rental_system = VehicleRental()\n",
    "rental_system.available_vehicles = {\"Car1\", \"Car2\", \"Bike1\"}\n",
    "rental_system.display_available_vehicles()\n",
    "rental_system.rent_vehicle(\"Car1\")\n",
    "rental_system.display_available_vehicles()\n",
    "rental_system.return_vehicle(\"Car1\")\n",
    "rental_system.display_available_vehicles()\n"
   ]
  },
  {
   "cell_type": "markdown",
   "id": "29751822-0626-4e4b-9f61-85d72d6f38fe",
   "metadata": {},
   "source": [
    "### Problem 4: Library Catalog Create classes representing a library and a book. Implement methods to add books to the library, borrow books, and display available books."
   ]
  },
  {
   "cell_type": "code",
   "execution_count": 4,
   "id": "a2ef34bb-aa8e-42da-a69b-5f9ea834a2ae",
   "metadata": {},
   "outputs": [
    {
     "name": "stdout",
     "output_type": "stream",
     "text": [
      "Book 'The Great Gatsby' by F. Scott Fitzgerald added to the library.\n",
      "Book 'To Kill a Mockingbird' by Harper Lee added to the library.\n",
      "Available Books:\n",
      "The Great Gatsby by F. Scott Fitzgerald\n",
      "To Kill a Mockingbird by Harper Lee\n",
      "Book 'The Great Gatsby' borrowed successfully.\n",
      "Available Books:\n",
      "To Kill a Mockingbird by Harper Lee\n"
     ]
    }
   ],
   "source": [
    "class Book:\n",
    "    def __init__(self, title, author):\n",
    "        self.title = title\n",
    "        self.author = author\n",
    "        self.is_borrowed = False\n",
    "\n",
    "class Library:\n",
    "    def __init__(self):\n",
    "        self.books = []\n",
    "\n",
    "    def add_book(self, book):\n",
    "        self.books.append(book)\n",
    "        print(f\"Book '{book.title}' by {book.author} added to the library.\")\n",
    "\n",
    "    def borrow_book(self, title):\n",
    "        for book in self.books:\n",
    "            if book.title == title and not book.is_borrowed:\n",
    "                book.is_borrowed = True\n",
    "                print(f\"Book '{title}' borrowed successfully.\")\n",
    "                return\n",
    "        print(\"Book not available for borrowing.\")\n",
    "\n",
    "    def display_available_books(self):\n",
    "        print(\"Available Books:\")\n",
    "        for book in self.books:\n",
    "            if not book.is_borrowed:\n",
    "                print(f\"{book.title} by {book.author}\")\n",
    "\n",
    "# Example usage:\n",
    "library = Library()\n",
    "book1 = Book(\"The Great Gatsby\", \"F. Scott Fitzgerald\")\n",
    "book2 = Book(\"To Kill a Mockingbird\", \"Harper Lee\")\n",
    "library.add_book(book1)\n",
    "library.add_book(book2)\n",
    "library.display_available_books()\n",
    "library.borrow_book(\"The Great Gatsby\")\n",
    "library.display_available_books()\n"
   ]
  },
  {
   "cell_type": "markdown",
   "id": "9161b171-75bb-4ac8-b17d-54a15b772298",
   "metadata": {},
   "source": [
    "### Problem 5: Product Inventory Create classes representing a product and an inventory system. Implement methods to add products to the inventory, update product quantity, and display available products.3"
   ]
  },
  {
   "cell_type": "code",
   "execution_count": 5,
   "id": "c01c6dbc-c5cf-45ad-99eb-cc2b26751ac0",
   "metadata": {},
   "outputs": [
    {
     "name": "stdout",
     "output_type": "stream",
     "text": [
      "Product 'Laptop' added to the inventory.\n",
      "Product 'Phone' added to the inventory.\n",
      "Available Products:\n",
      "Laptop (ID: P001) - Quantity: 10\n",
      "Phone (ID: P002) - Quantity: 20\n",
      "Quantity updated for product 'Laptop' to 8.\n",
      "Available Products:\n",
      "Laptop (ID: P001) - Quantity: 8\n",
      "Phone (ID: P002) - Quantity: 20\n"
     ]
    }
   ],
   "source": [
    "class Product:\n",
    "    def __init__(self, product_id, name, quantity):\n",
    "        self.product_id = product_id\n",
    "        self.name = name\n",
    "        self.quantity = quantity\n",
    "\n",
    "class Inventory:\n",
    "    def __init__(self):\n",
    "        self.products = []\n",
    "\n",
    "    def add_product(self, product):\n",
    "        self.products.append(product)\n",
    "        print(f\"Product '{product.name}' added to the inventory.\")\n",
    "\n",
    "    def update_quantity(self, product_id, new_quantity):\n",
    "        for product in self.products:\n",
    "            if product.product_id == product_id:\n",
    "                product.quantity = new_quantity\n",
    "                print(f\"Quantity updated for product '{product.name}' to {new_quantity}.\")\n",
    "                return\n",
    "        print(\"Product not found in the inventory.\")\n",
    "\n",
    "    def display_available_products(self):\n",
    "        print(\"Available Products:\")\n",
    "        for product in self.products:\n",
    "            print(f\"{product.name} (ID: {product.product_id}) - Quantity: {product.quantity}\")\n",
    "\n",
    "# Example usage:\n",
    "inventory_system = Inventory()\n",
    "product1 = Product(\"P001\", \"Laptop\", 10)\n",
    "product2 = Product(\"P002\", \"Phone\", 20)\n",
    "inventory_system.add_product(product1)\n",
    "inventory_system.add_product(product2)\n",
    "inventory_system.display_available_products()\n",
    "inventory_system.update_quantity(\"P001\", 8)\n",
    "inventory_system.display_available_products()\n"
   ]
  },
  {
   "cell_type": "markdown",
   "id": "6f1115a3-9e84-4fc5-9b1a-12021de9a712",
   "metadata": {},
   "source": [
    "### Problem 6: Shape Calculation Create a class representing a shape with attributes like length, width, and height. Implement methods to calculate the area and perimeter of the shape."
   ]
  },
  {
   "cell_type": "code",
   "execution_count": 7,
   "id": "e4b6dc2c-d8ea-4e22-aa81-068e1f384d51",
   "metadata": {},
   "outputs": [
    {
     "name": "stdout",
     "output_type": "stream",
     "text": [
      "Rectangle Area: 20\n",
      "Rectangle Perimeter: 18\n"
     ]
    }
   ],
   "source": [
    "class Shape:\n",
    "    def __init__(self, length, width):\n",
    "        self.length = length\n",
    "        self.width = width\n",
    "\n",
    "    def calculate_area(self):\n",
    "        pass  # To be implemented in the derived classes\n",
    "\n",
    "    def calculate_perimeter(self):\n",
    "        pass  # To be implemented in the derived classes\n",
    "\n",
    "class Rectangle(Shape):\n",
    "    def calculate_area(self):\n",
    "        return self.length * self.width\n",
    "\n",
    "    def calculate_perimeter(self):\n",
    "        return 2 * (self.length + self.width)\n",
    "\n",
    "# Example usage:\n",
    "rectangle = Rectangle(4, 5)\n",
    "print(\"Rectangle Area:\", rectangle.calculate_area())\n",
    "print(\"Rectangle Perimeter:\", rectangle.calculate_perimeter())\n"
   ]
  },
  {
   "cell_type": "markdown",
   "id": "6f29667b-8f34-47d1-998e-4409d1db9b49",
   "metadata": {},
   "source": [
    "### Problem 7: Student Management Create a class representing a student with attributes like student ID, name, and grades. Implement methods to calculate the average grade and display student details.\n"
   ]
  },
  {
   "cell_type": "code",
   "execution_count": 8,
   "id": "9551f461-6c5a-4384-a83e-56b9bded7b06",
   "metadata": {},
   "outputs": [
    {
     "name": "stdout",
     "output_type": "stream",
     "text": [
      "Student ID: S001\n",
      "Name: Bob\n",
      "Average Grade: 88.75\n"
     ]
    }
   ],
   "source": [
    "class Student:\n",
    "    def __init__(self, student_id, name, grades):\n",
    "        self.student_id = student_id\n",
    "        self.name = name\n",
    "        self.grades = grades\n",
    "\n",
    "    def calculate_average_grade(self):\n",
    "        return sum(self.grades) / len(self.grades)\n",
    "\n",
    "    def display_details(self):\n",
    "        print(f\"Student ID: {self.student_id}\")\n",
    "        print(f\"Name: {self.name}\")\n",
    "        print(f\"Average Grade: {self.calculate_average_grade()}\")\n",
    "\n",
    "# Example usage:\n",
    "student = Student(\"S001\", \"Bob\", [90, 85, 92, 88])\n",
    "student.display_details()\n"
   ]
  },
  {
   "cell_type": "markdown",
   "id": "25c90b69-face-4f22-a96f-a1c677764313",
   "metadata": {},
   "source": [
    "### Problem 8: Email Management Create a class representing an email with attributes like sender, recipient, and subject. Implement methods to send an email and display email details."
   ]
  },
  {
   "cell_type": "code",
   "execution_count": 9,
   "id": "135a1b40-6108-4015-8b27-d768301d2afc",
   "metadata": {},
   "outputs": [
    {
     "name": "stdout",
     "output_type": "stream",
     "text": [
      "Email sent from john@example.com to alice@example.com with subject 'Meeting'.\n",
      "Email Details:\n",
      "Sender: john@example.com\n",
      "Recipient: alice@example.com\n",
      "Subject: Meeting\n",
      "Content:\n",
      "Hello Alice, let's meet tomorrow.\n"
     ]
    }
   ],
   "source": [
    "class Email:\n",
    "    def __init__(self, sender, recipient, subject, content):\n",
    "        self.sender = sender\n",
    "        self.recipient = recipient\n",
    "        self.subject = subject\n",
    "        self.content = content\n",
    "\n",
    "    def send_email(self):\n",
    "        print(f\"Email sent from {self.sender} to {self.recipient} with subject '{self.subject}'.\")\n",
    "\n",
    "    def display_details(self):\n",
    "        print(\"Email Details:\")\n",
    "        print(f\"Sender: {self.sender}\")\n",
    "        print(f\"Recipient: {self.recipient}\")\n",
    "        print(f\"Subject: {self.subject}\")\n",
    "        print(\"Content:\")\n",
    "        print(self.content)\n",
    "\n",
    "# Example usage:\n",
    "email = Email(\"john@example.com\", \"alice@example.com\", \"Meeting\", \"Hello Alice, let's meet tomorrow.\")\n",
    "email.send_email()\n",
    "email.display_details()\n"
   ]
  },
  {
   "cell_type": "markdown",
   "id": "cef55f8a-2780-42df-87f1-c7daf6186cea",
   "metadata": {},
   "source": [
    "### Problem 9: Social Media Profile Create a class representing a social media profile with attributes like username and posts. Implement methods to add posts, display posts, and search for posts by keyword."
   ]
  },
  {
   "cell_type": "code",
   "execution_count": 10,
   "id": "a928a2c1-2641-45d5-8180-d0bbfa25d22f",
   "metadata": {},
   "outputs": [
    {
     "name": "stdout",
     "output_type": "stream",
     "text": [
      "Post added to john_doe's profile.\n",
      "Post added to john_doe's profile.\n",
      "john_doe's Posts:\n",
      "Having a great day!\n",
      "Exploring new places.\n",
      "Posts containing 'great':\n",
      "Having a great day!\n"
     ]
    }
   ],
   "source": [
    "class SocialMediaProfile:\n",
    "    def __init__(self, username):\n",
    "        self.username = username\n",
    "        self.posts = []\n",
    "\n",
    "    def add_post(self, post):\n",
    "        self.posts.append(post)\n",
    "        print(f\"Post added to {self.username}'s profile.\")\n",
    "\n",
    "    def display_posts(self):\n",
    "        print(f\"{self.username}'s Posts:\")\n",
    "        for post in self.posts:\n",
    "            print(post)\n",
    "\n",
    "    def search_posts(self, keyword):\n",
    "        matching_posts = [post for post in self.posts if keyword.lower() in post.lower()]\n",
    "        print(f\"Posts containing '{keyword}':\")\n",
    "        for post in matching_posts:\n",
    "            print(post)\n",
    "\n",
    "# Example usage:\n",
    "profile = SocialMediaProfile(\"john_doe\")\n",
    "profile.add_post(\"Having a great day!\")\n",
    "profile.add_post(\"Exploring new places.\")\n",
    "profile.display_posts()\n",
    "profile.search_posts(\"great\")\n"
   ]
  },
  {
   "cell_type": "markdown",
   "id": "cbf1892a-504d-4a3d-8819-9f9c248a3dc1",
   "metadata": {},
   "source": [
    "### Problem 10: ToDo List Create a class representing a ToDo list with attributes like tasks and due dates. Implement methods to add tasks, mark tasks as completed, and display pending tasks."
   ]
  },
  {
   "cell_type": "code",
   "execution_count": 11,
   "id": "e355496b-386c-4262-8d9a-ec03eb0fa885",
   "metadata": {},
   "outputs": [
    {
     "name": "stdout",
     "output_type": "stream",
     "text": [
      "Task 'Write report' added to the ToDo list.\n",
      "Task 'Exercise' added to the ToDo list.\n",
      "Pending Tasks:\n",
      "Write report (Due Date: 2023-12-15)\n",
      "Exercise (Due Date: 2023-12-10)\n",
      "Task 'Exercise' marked as completed.\n",
      "Pending Tasks:\n",
      "Write report (Due Date: 2023-12-15)\n"
     ]
    }
   ],
   "source": [
    "class ToDoList:\n",
    "    def __init__(self):\n",
    "        self.tasks = []\n",
    "\n",
    "    def add_task(self, task, due_date):\n",
    "        self.tasks.append({\"task\": task, \"due_date\": due_date, \"completed\": False})\n",
    "        print(f\"Task '{task}' added to the ToDo list.\")\n",
    "\n",
    "    def mark_as_completed(self, task):\n",
    "        for t in self.tasks:\n",
    "            if t[\"task\"] == task:\n",
    "                t[\"completed\"] = True\n",
    "                print(f\"Task '{task}' marked as completed.\")\n",
    "                return\n",
    "        print(\"Task not found in the ToDo list.\")\n",
    "\n",
    "    def display_pending_tasks(self):\n",
    "        print(\"Pending Tasks:\")\n",
    "        for task in self.tasks:\n",
    "            if not task[\"completed\"]:\n",
    "                print(f\"{task['task']} (Due Date: {task['due_date']})\")\n",
    "\n",
    "# Example usage:\n",
    "todo_list = ToDoList()\n",
    "todo_list.add_task(\"Write report\", \"2023-12-15\")\n",
    "todo_list.add_task(\"Exercise\", \"2023-12-10\")\n",
    "todo_list.display_pending_tasks()\n",
    "todo_list.mark_as_completed(\"Exercise\")\n",
    "todo_list.display_pending_tasks()\n"
   ]
  }
 ],
 "metadata": {
  "kernelspec": {
   "display_name": "Python 3 (ipykernel)",
   "language": "python",
   "name": "python3"
  },
  "language_info": {
   "codemirror_mode": {
    "name": "ipython",
    "version": 3
   },
   "file_extension": ".py",
   "mimetype": "text/x-python",
   "name": "python",
   "nbconvert_exporter": "python",
   "pygments_lexer": "ipython3",
   "version": "3.10.8"
  }
 },
 "nbformat": 4,
 "nbformat_minor": 5
}
