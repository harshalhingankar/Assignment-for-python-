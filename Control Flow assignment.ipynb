{
 "cells": [
  {
   "cell_type": "markdown",
   "id": "57af9b00-e4ec-457b-89ee-12ba7b503e5c",
   "metadata": {},
   "source": [
    "### Check if a given number is positive or negative:"
   ]
  },
  {
   "cell_type": "code",
   "execution_count": 1,
   "id": "27c998ad-0a73-4b52-ac14-5656d1f517be",
   "metadata": {},
   "outputs": [
    {
     "name": "stdin",
     "output_type": "stream",
     "text": [
      "Enter a number:  23\n"
     ]
    },
    {
     "name": "stdout",
     "output_type": "stream",
     "text": [
      "Positive number\n"
     ]
    }
   ],
   "source": [
    "num = float(input(\"Enter a number: \"))\n",
    "if num > 0:\n",
    "    print(\"Positive number\")\n",
    "elif num == 0:\n",
    "    print(\"Zero\")\n",
    "else:\n",
    "    print(\"Negative number\")\n"
   ]
  },
  {
   "cell_type": "markdown",
   "id": "7a5c3f10-fb78-469f-b2ba-61c23e79df9f",
   "metadata": {},
   "source": [
    "### Determine if a person is eligible to vote based on their age:"
   ]
  },
  {
   "cell_type": "code",
   "execution_count": 2,
   "id": "b0920973-20b2-4118-81ab-6a7c7c6c4caa",
   "metadata": {},
   "outputs": [
    {
     "name": "stdin",
     "output_type": "stream",
     "text": [
      "Enter your age:  12\n"
     ]
    },
    {
     "name": "stdout",
     "output_type": "stream",
     "text": [
      "You are not eligible to vote yet.\n"
     ]
    }
   ],
   "source": [
    "age = int(input(\"Enter your age: \"))\n",
    "if age >= 18:\n",
    "    print(\"You are eligible to vote.\")\n",
    "else:\n",
    "    print(\"You are not eligible to vote yet.\")\n"
   ]
  },
  {
   "cell_type": "markdown",
   "id": "4ca6dadf-d90a-437a-973e-13860180cbbc",
   "metadata": {},
   "source": [
    "### Find the maximum of two numbers:"
   ]
  },
  {
   "cell_type": "code",
   "execution_count": 3,
   "id": "02212746-f4c7-42e5-8a28-94a156b1e6ca",
   "metadata": {},
   "outputs": [
    {
     "name": "stdin",
     "output_type": "stream",
     "text": [
      "Enter the first number:  23\n",
      "Enter the second number:  33\n"
     ]
    },
    {
     "name": "stdout",
     "output_type": "stream",
     "text": [
      "Maximum:  33.0\n"
     ]
    }
   ],
   "source": [
    "num1 = float(input(\"Enter the first number: \"))\n",
    "num2 = float(input(\"Enter the second number: \"))\n",
    "if num1 > num2:\n",
    "    print(\"Maximum: \", num1)\n",
    "else:\n",
    "    print(\"Maximum: \", num2)\n"
   ]
  },
  {
   "cell_type": "markdown",
   "id": "6b8827b8-c6ed-4701-a1c5-644fd1f49d95",
   "metadata": {},
   "source": [
    "### Classify a given year as a leap year or not:"
   ]
  },
  {
   "cell_type": "code",
   "execution_count": 5,
   "id": "45f15996-de66-4e27-bd59-fca0d3813914",
   "metadata": {},
   "outputs": [
    {
     "name": "stdin",
     "output_type": "stream",
     "text": [
      "Enter a year:  22\n"
     ]
    },
    {
     "name": "stdout",
     "output_type": "stream",
     "text": [
      "Not a leap year\n"
     ]
    }
   ],
   "source": [
    "year = int(input(\"Enter a year: \"))\n",
    "if (year % 4 == 0 and year % 100 != 0) or (year % 400 == 0):\n",
    "    print(\"Leap year\")\n",
    "else:\n",
    "    print(\"Not a leap year\")\n"
   ]
  },
  {
   "cell_type": "markdown",
   "id": "590d904f-b6cd-48b5-b7c1-b3fae64bbae2",
   "metadata": {},
   "source": [
    "### Check whether a character is a vowel or a consonant:`"
   ]
  },
  {
   "cell_type": "code",
   "execution_count": 6,
   "id": "658377e4-2c70-4c67-911e-f8804a8d6b1f",
   "metadata": {},
   "outputs": [
    {
     "name": "stdin",
     "output_type": "stream",
     "text": [
      "Enter a character:  ddddd\n"
     ]
    },
    {
     "name": "stdout",
     "output_type": "stream",
     "text": [
      "Consonant\n"
     ]
    }
   ],
   "source": [
    "char = input(\"Enter a character: \").lower()\n",
    "if char.isalpha():\n",
    "    if char in 'aeiou':\n",
    "        print(\"Vowel\")\n",
    "    else:\n",
    "        print(\"Consonant\")\n",
    "else:\n",
    "    print(\"Not a valid character\")\n"
   ]
  },
  {
   "cell_type": "markdown",
   "id": "67e40b94-a4dd-4b02-a2a1-332433f1583a",
   "metadata": {},
   "source": [
    "### Determine whether a given number is even or odd:"
   ]
  },
  {
   "cell_type": "code",
   "execution_count": 7,
   "id": "5ca8af80-62b8-418e-ad82-87562980a075",
   "metadata": {},
   "outputs": [
    {
     "name": "stdin",
     "output_type": "stream",
     "text": [
      "Enter a number:  45\n"
     ]
    },
    {
     "name": "stdout",
     "output_type": "stream",
     "text": [
      "Odd number\n"
     ]
    }
   ],
   "source": [
    "num = int(input(\"Enter a number: \"))\n",
    "if num % 2 == 0:\n",
    "    print(\"Even number\")\n",
    "else:\n",
    "    print(\"Odd number\")\n"
   ]
  },
  {
   "cell_type": "markdown",
   "id": "a0e00b23-7626-4b81-9313-db5a7fd8a7ce",
   "metadata": {},
   "source": [
    "### Calculate the absolute value without using abs():"
   ]
  },
  {
   "cell_type": "code",
   "execution_count": 8,
   "id": "b52366e7-4e1f-4b9a-a75a-2f278c433b22",
   "metadata": {},
   "outputs": [
    {
     "name": "stdin",
     "output_type": "stream",
     "text": [
      "Enter a number:  34\n"
     ]
    },
    {
     "name": "stdout",
     "output_type": "stream",
     "text": [
      "Absolute value: 34.0\n"
     ]
    }
   ],
   "source": [
    "num = float(input(\"Enter a number: \"))\n",
    "if num < 0:\n",
    "    abs_value = -num\n",
    "else:\n",
    "    abs_value = num\n",
    "print(\"Absolute value:\", abs_value)\n"
   ]
  },
  {
   "cell_type": "markdown",
   "id": "613b915f-2532-4b33-8af3-77894ad2e162",
   "metadata": {},
   "source": [
    "### Determine the largest of three given numbers:"
   ]
  },
  {
   "cell_type": "code",
   "execution_count": 9,
   "id": "4a5c08ae-b09e-4291-ac83-f3d15aa50ff4",
   "metadata": {},
   "outputs": [
    {
     "name": "stdin",
     "output_type": "stream",
     "text": [
      "Enter the first number:  45\n",
      "Enter the second number:  56\n",
      "Enter the third number:  78\n"
     ]
    },
    {
     "name": "stdout",
     "output_type": "stream",
     "text": [
      "Largest:  78.0\n"
     ]
    }
   ],
   "source": [
    "num1 = float(input(\"Enter the first number: \"))\n",
    "num2 = float(input(\"Enter the second number: \"))\n",
    "num3 = float(input(\"Enter the third number: \"))\n",
    "if num1 >= num2 and num1 >= num3:\n",
    "    print(\"Largest: \", num1)\n",
    "elif num2 >= num1 and num2 >= num3:\n",
    "    print(\"Largest: \", num2)\n",
    "else:\n",
    "    print(\"Largest: \", num3)\n"
   ]
  },
  {
   "cell_type": "markdown",
   "id": "16f360db-71f3-48b3-a587-e6a2b8cb5b64",
   "metadata": {},
   "source": [
    "### Check if a given string is a palindrome:"
   ]
  },
  {
   "cell_type": "code",
   "execution_count": 10,
   "id": "19e1fed4-0496-4a8f-ae8c-97c5d2b0298f",
   "metadata": {},
   "outputs": [
    {
     "name": "stdin",
     "output_type": "stream",
     "text": [
      "Enter a string:  ccsgavgvsgvs\n"
     ]
    },
    {
     "name": "stdout",
     "output_type": "stream",
     "text": [
      "Not a palindrome\n"
     ]
    }
   ],
   "source": [
    "string = input(\"Enter a string: \")\n",
    "if string == string[::-1]:\n",
    "    print(\"Palindrome\")\n",
    "else:\n",
    "    print(\"Not a palindrome\")\n"
   ]
  },
  {
   "cell_type": "markdown",
   "id": "ac66d3d2-059f-4cdb-a98a-31eb360bc8c2",
   "metadata": {},
   "source": [
    "### Calculate the grade based on a student's score:"
   ]
  },
  {
   "cell_type": "code",
   "execution_count": null,
   "id": "8037f42c-f416-45a0-9658-33c8c05351dd",
   "metadata": {},
   "outputs": [
    {
     "name": "stdin",
     "output_type": "stream",
     "text": [
      "Enter the student's score:  67\n"
     ]
    },
    {
     "name": "stdout",
     "output_type": "stream",
     "text": [
      "Grade: D\n"
     ]
    }
   ],
   "source": [
    "score = float(input(\"Enter the student's score: \"))\n",
    "if 90 <= score <= 100:\n",
    "    print(\"Grade: A\")\n",
    "elif 80 <= score < 90:\n",
    "    print(\"Grade: B\")\n",
    "elif 70 <= score < 80:\n",
    "    print(\"Grade: C\")\n",
    "elif 60 <= score < 70:\n",
    "    print(\"Grade: D\")\n",
    "else:\n",
    "    print(\"Grade: F\")\n"
   ]
  },
  {
   "cell_type": "markdown",
   "id": "a596e8f8-0b7d-402b-a038-17cdc2e1c533",
   "metadata": {},
   "source": [
    "### Find the largest among three numbers using nested if-else statements:"
   ]
  },
  {
   "cell_type": "code",
   "execution_count": 12,
   "id": "32e9212b-343f-4c37-9fa7-0345b8124a44",
   "metadata": {},
   "outputs": [
    {
     "name": "stdin",
     "output_type": "stream",
     "text": [
      "Enter the first number:  3\n",
      "Enter the second number:  4\n",
      "Enter the third number:  4\n"
     ]
    },
    {
     "name": "stdout",
     "output_type": "stream",
     "text": [
      "Largest:  4.0\n"
     ]
    }
   ],
   "source": [
    "num1 = float(input(\"Enter the first number: \"))\n",
    "num2 = float(input(\"Enter the second number: \"))\n",
    "num3 = float(input(\"Enter the third number: \"))\n",
    "\n",
    "if num1 >= num2:\n",
    "    if num1 >= num3:\n",
    "        print(\"Largest: \", num1)\n",
    "    else:\n",
    "        print(\"Largest: \", num3)\n",
    "else:\n",
    "    if num2 >= num3:\n",
    "        print(\"Largest: \", num2)\n",
    "    else:\n",
    "        print(\"Largest: \", num3)\n"
   ]
  },
  {
   "cell_type": "markdown",
   "id": "73022e36-fd82-40a9-9272-9fd2c009b910",
   "metadata": {},
   "source": [
    "### Determine if a triangle is equilateral, isosceles, or scalene:"
   ]
  },
  {
   "cell_type": "code",
   "execution_count": 13,
   "id": "8a52daeb-b183-4109-89ad-9bd8a660850b",
   "metadata": {},
   "outputs": [
    {
     "name": "stdin",
     "output_type": "stream",
     "text": [
      "Enter the length of side 1:  2\n",
      "Enter the length of side 2:  2\n",
      "Enter the length of side 3:  2\n"
     ]
    },
    {
     "name": "stdout",
     "output_type": "stream",
     "text": [
      "Equilateral triangle\n"
     ]
    }
   ],
   "source": [
    "side1 = float(input(\"Enter the length of side 1: \"))\n",
    "side2 = float(input(\"Enter the length of side 2: \"))\n",
    "side3 = float(input(\"Enter the length of side 3: \"))\n",
    "\n",
    "if side1 == side2 == side3:\n",
    "    print(\"Equilateral triangle\")\n",
    "elif side1 == side2 or side1 == side3 or side2 == side3:\n",
    "    print(\"Isosceles triangle\")\n",
    "else:\n",
    "    print(\"Scalene triangle\")\n"
   ]
  },
  {
   "cell_type": "markdown",
   "id": "cd718ab6-ef79-41ed-9bc0-49e770eae241",
   "metadata": {},
   "source": [
    "### Check if a year is a leap year and if it is a century year:"
   ]
  },
  {
   "cell_type": "code",
   "execution_count": 14,
   "id": "f9465c37-75b6-4c63-9acc-179d45afd4e1",
   "metadata": {},
   "outputs": [
    {
     "name": "stdin",
     "output_type": "stream",
     "text": [
      "Enter a year:  2023\n"
     ]
    },
    {
     "name": "stdout",
     "output_type": "stream",
     "text": [
      "Not a leap year\n"
     ]
    }
   ],
   "source": [
    "year = int(input(\"Enter a year: \"))\n",
    "\n",
    "if (year % 4 == 0 and year % 100 != 0) or (year % 400 == 0):\n",
    "    print(\"Leap year\")\n",
    "    if year % 100 == 0:\n",
    "        print(\"Century year\")\n",
    "else:\n",
    "    print(\"Not a leap year\")\n"
   ]
  },
  {
   "cell_type": "markdown",
   "id": "43aaaa1f-08f6-443d-a689-42a14c640dc7",
   "metadata": {},
   "source": [
    "### Determine if a number is positive, negative, or zero:"
   ]
  },
  {
   "cell_type": "code",
   "execution_count": 15,
   "id": "6c84bcee-a0ee-4957-887c-834c7ec8a42c",
   "metadata": {},
   "outputs": [
    {
     "name": "stdin",
     "output_type": "stream",
     "text": [
      "Enter a number:  22\n"
     ]
    },
    {
     "name": "stdout",
     "output_type": "stream",
     "text": [
      "Positive number\n"
     ]
    }
   ],
   "source": [
    "num = float(input(\"Enter a number: \"))\n",
    "\n",
    "if num > 0:\n",
    "    print(\"Positive number\")\n",
    "elif num == 0:\n",
    "    print(\"Zero\")\n",
    "else:\n",
    "    print(\"Negative number\")\n"
   ]
  },
  {
   "cell_type": "markdown",
   "id": "46bac2e6-dbdf-4e6d-bad4-bb02d2676fae",
   "metadata": {},
   "source": [
    "### Check if a person is a teenager (between 13 and 19 years old):"
   ]
  },
  {
   "cell_type": "code",
   "execution_count": 16,
   "id": "0734a47a-40f7-45ba-ab73-2806f633d93e",
   "metadata": {},
   "outputs": [
    {
     "name": "stdin",
     "output_type": "stream",
     "text": [
      "Enter age:  23\n"
     ]
    },
    {
     "name": "stdout",
     "output_type": "stream",
     "text": [
      "Not a teenager\n"
     ]
    }
   ],
   "source": [
    "age = int(input(\"Enter age: \"))\n",
    "\n",
    "if 13 <= age <= 19:\n",
    "    print(\"Teenager\")\n",
    "else:\n",
    "    print(\"Not a teenager\")\n"
   ]
  },
  {
   "cell_type": "markdown",
   "id": "7599165e-21bd-4d00-8370-9e19f7d25fb4",
   "metadata": {},
   "source": [
    "### Determine the type of angle based on its measure:"
   ]
  },
  {
   "cell_type": "code",
   "execution_count": 17,
   "id": "e6d6e4ed-a31a-4806-a568-7a23820873c6",
   "metadata": {},
   "outputs": [
    {
     "name": "stdin",
     "output_type": "stream",
     "text": [
      "Enter the angle measure:  45\n"
     ]
    },
    {
     "name": "stdout",
     "output_type": "stream",
     "text": [
      "Acute angle\n"
     ]
    }
   ],
   "source": [
    "angle = float(input(\"Enter the angle measure: \"))\n",
    "\n",
    "if angle < 90:\n",
    "    print(\"Acute angle\")\n",
    "elif angle == 90:\n",
    "    print(\"Right angle\")\n",
    "elif angle < 180:\n",
    "    print(\"Obtuse angle\")\n",
    "else:\n",
    "    print(\"Reflex angle\")\n"
   ]
  },
  {
   "cell_type": "markdown",
   "id": "342885bf-f116-49a0-8706-73b5493dea7c",
   "metadata": {},
   "source": [
    "### Calculate the roots of a quadratic equation:"
   ]
  },
  {
   "cell_type": "code",
   "execution_count": 19,
   "id": "c7b15ba3-e543-4fba-a4e0-85314abdba6c",
   "metadata": {},
   "outputs": [
    {
     "name": "stdin",
     "output_type": "stream",
     "text": [
      "Enter the coefficient a:  2\n",
      "Enter the coefficient b:  3\n",
      "Enter the coefficient c:  5\n"
     ]
    },
    {
     "name": "stdout",
     "output_type": "stream",
     "text": [
      "Complex roots\n"
     ]
    }
   ],
   "source": [
    "import math\n",
    "\n",
    "a = float(input(\"Enter the coefficient a: \"))\n",
    "b = float(input(\"Enter the coefficient b: \"))\n",
    "c = float(input(\"Enter the coefficient c: \"))\n",
    "\n",
    "discriminant = b**2 - 4*a*c\n",
    "\n",
    "if discriminant > 0:\n",
    "    root1 = (-b + math.sqrt(discriminant)) / (2*a)\n",
    "    root2 = (-b - math.sqrt(discriminant)) / (2*a)\n",
    "    print(\"Two distinct real roots: \", root1, \" and \", root2)\n",
    "elif discriminant == 0:\n",
    "    root = -b / (2*a)\n",
    "    print(\"One real root: \", root)\n",
    "else:\n",
    "    print(\"Complex roots\")\n"
   ]
  },
  {
   "cell_type": "markdown",
   "id": "f01548ec-96d5-4631-81f3-01196f8eb35b",
   "metadata": {},
   "source": [
    "### Determine the day of the week based on a user-provided number:"
   ]
  },
  {
   "cell_type": "code",
   "execution_count": 21,
   "id": "769d791b-a232-4250-a572-079404212619",
   "metadata": {},
   "outputs": [
    {
     "name": "stdin",
     "output_type": "stream",
     "text": [
      "Enter a number (1 for Monday, 2 for Tuesday, etc.):  1\n"
     ]
    },
    {
     "name": "stdout",
     "output_type": "stream",
     "text": [
      "Monday\n"
     ]
    }
   ],
   "source": [
    "day_number = int(input(\"Enter a number (1 for Monday, 2 for Tuesday, etc.): \"))\n",
    "\n",
    "if 1 <= day_number <= 7:\n",
    "    if day_number == 1:\n",
    "        print(\"Monday\")\n",
    "    elif day_number == 2:\n",
    "        print(\"Tuesday\")\n",
    "    elif day_number == 3:\n",
    "        print(\"Wednesday\")\n",
    "    elif day_number == 4:\n",
    "        print(\"Thursday\")\n",
    "    elif day_number == 5:\n",
    "        print(\"Friday\")\n",
    "    elif day_number == 6:\n",
    "        print(\"Saturday\")\n",
    "    else:\n",
    "        print(\"Sunday\")\n",
    "else:\n",
    "    print(\"Invalid input\")\n"
   ]
  },
  {
   "cell_type": "markdown",
   "id": "91af3306-87ad-45cc-9a3f-c48c0fe80174",
   "metadata": {},
   "source": [
    "### Check if a year is a leap year and also if it is evenly divisible by 400"
   ]
  },
  {
   "cell_type": "code",
   "execution_count": 22,
   "id": "a567984d-18c9-42c8-a087-625a3cd342da",
   "metadata": {},
   "outputs": [
    {
     "name": "stdin",
     "output_type": "stream",
     "text": [
      "Enter a year:  2023\n"
     ]
    },
    {
     "name": "stdout",
     "output_type": "stream",
     "text": [
      "Not a leap year\n"
     ]
    }
   ],
   "source": [
    "year = int(input(\"Enter a year: \"))\n",
    "\n",
    "if year % 400 == 0 or (year % 4 == 0 and year % 100 != 0):\n",
    "    print(\"Leap year\")\n",
    "else:\n",
    "    print(\"Not a leap year\")\n"
   ]
  },
  {
   "cell_type": "markdown",
   "id": "61fc44e3-e475-421e-83bb-6248100a8013",
   "metadata": {},
   "source": [
    "### Check if a given number is prime or not using nested if-else statements:"
   ]
  },
  {
   "cell_type": "code",
   "execution_count": 23,
   "id": "99b77c13-87ac-4d1d-907a-bc542bb1a7e8",
   "metadata": {},
   "outputs": [
    {
     "name": "stdin",
     "output_type": "stream",
     "text": [
      "Enter a number:  23\n"
     ]
    },
    {
     "name": "stdout",
     "output_type": "stream",
     "text": [
      "Prime number\n"
     ]
    }
   ],
   "source": [
    "num = int(input(\"Enter a number: \"))\n",
    "\n",
    "if num > 1:\n",
    "    for i in range(2, int(num**0.5) + 1):\n",
    "        if num % i == 0:\n",
    "            print(\"Not a prime number\")\n",
    "            break\n",
    "    else:\n",
    "        print(\"Prime number\")\n",
    "else:\n",
    "    print(\"Not a prime number\")\n"
   ]
  },
  {
   "cell_type": "markdown",
   "id": "a17e3342-c527-4602-bf46-c6d9bb51db45",
   "metadata": {},
   "source": [
    "### Assign grades based on different ranges of scores:"
   ]
  },
  {
   "cell_type": "code",
   "execution_count": 24,
   "id": "3c1cbca3-3cf0-4e8f-8b03-fa547f40f1d6",
   "metadata": {},
   "outputs": [
    {
     "name": "stdin",
     "output_type": "stream",
     "text": [
      "Enter the student's score:  90\n"
     ]
    },
    {
     "name": "stdout",
     "output_type": "stream",
     "text": [
      "Grade: A\n"
     ]
    }
   ],
   "source": [
    "score = float(input(\"Enter the student's score: \"))\n",
    "\n",
    "if 90 <= score <= 100:\n",
    "    print(\"Grade: A\")\n",
    "elif 80 <= score < 90:\n",
    "    print(\"Grade: B\")\n",
    "elif 70 <= score < 80:\n",
    "    print(\"Grade: C\")\n",
    "elif 60 <= score < 70:\n",
    "    print(\"Grade: D\")\n",
    "else:\n",
    "    print(\"Grade: F\")\n"
   ]
  },
  {
   "cell_type": "markdown",
   "id": "82ec8e73-76e0-4ddb-bee4-5783fd526e2a",
   "metadata": {},
   "source": [
    "### Determine the type of a triangle based on its angles:"
   ]
  },
  {
   "cell_type": "code",
   "execution_count": 26,
   "id": "b1d04d5a-4590-4248-a677-8535fa2b06b3",
   "metadata": {},
   "outputs": [
    {
     "name": "stdin",
     "output_type": "stream",
     "text": [
      "Enter the first angle:  10\n",
      "Enter the second angle:  10\n",
      "Enter the third angle:  10\n"
     ]
    },
    {
     "name": "stdout",
     "output_type": "stream",
     "text": [
      "Invalid triangle\n"
     ]
    }
   ],
   "source": [
    "angle1 = float(input(\"Enter the first angle: \"))\n",
    "angle2 = float(input(\"Enter the second angle: \"))\n",
    "angle3 = float(input(\"Enter the third angle: \"))\n",
    "\n",
    "if angle1 + angle2 + angle3 == 180:\n",
    "    if angle1 == angle2 == angle3:\n",
    "        print(\"Equilateral triangle\")\n",
    "    elif angle1 == angle2 or angle1 == angle3 or angle2 == angle3:\n",
    "        print(\"Isosceles triangle\")\n",
    "    else:\n",
    "        print(\"Scalene triangle\")\n",
    "else:\n",
    "    print(\"Invalid triangle\")\n"
   ]
  },
  {
   "cell_type": "markdown",
   "id": "82133f40-e808-4f97-b6de-d1ed3377ae13",
   "metadata": {},
   "source": [
    "### Categorize a person's BMI into underweight, normal, overweight, or obese:"
   ]
  },
  {
   "cell_type": "code",
   "execution_count": 27,
   "id": "2c0794d7-57b1-40ee-bfad-678bbda0827b",
   "metadata": {},
   "outputs": [
    {
     "name": "stdin",
     "output_type": "stream",
     "text": [
      "Enter your weight in kilograms:  60\n",
      "Enter your height in meters:  3.5\n"
     ]
    },
    {
     "name": "stdout",
     "output_type": "stream",
     "text": [
      "Underweight\n"
     ]
    }
   ],
   "source": [
    "weight = float(input(\"Enter your weight in kilograms: \"))\n",
    "height = float(input(\"Enter your height in meters: \"))\n",
    "\n",
    "bmi = weight / (height ** 2)\n",
    "\n",
    "if bmi < 18.5:\n",
    "    print(\"Underweight\")\n",
    "elif 18.5 <= bmi < 24.9:\n",
    "    print(\"Normal weight\")\n",
    "elif 25 <= bmi < 29.9:\n",
    "    print(\"Overweight\")\n",
    "else:\n",
    "    print(\"Obese\")\n"
   ]
  },
  {
   "cell_type": "markdown",
   "id": "28282718-c5ff-461e-86d6-68f6dbf9561b",
   "metadata": {},
   "source": [
    "### Determine if a number is positive, negative, or zero:"
   ]
  },
  {
   "cell_type": "code",
   "execution_count": 28,
   "id": "c9c4c66e-c8dc-4b87-907b-779347792c7a",
   "metadata": {},
   "outputs": [
    {
     "name": "stdin",
     "output_type": "stream",
     "text": [
      "Enter a number:  56\n"
     ]
    },
    {
     "name": "stdout",
     "output_type": "stream",
     "text": [
      "Positive number\n"
     ]
    }
   ],
   "source": [
    "num = float(input(\"Enter a number: \"))\n",
    "\n",
    "if num > 0:\n",
    "    print(\"Positive number\")\n",
    "elif num == 0:\n",
    "    print(\"Zero\")\n",
    "else:\n",
    "    print(\"Negative number\")\n"
   ]
  },
  {
   "cell_type": "markdown",
   "id": "209b7017-3901-4749-b1ef-c0b2fd217a1a",
   "metadata": {},
   "source": [
    "### Determine the type of a character (uppercase, lowercase, or special):"
   ]
  },
  {
   "cell_type": "code",
   "execution_count": 29,
   "id": "b42195d3-8b7a-47b4-83d2-55e2f5591a7e",
   "metadata": {},
   "outputs": [
    {
     "name": "stdin",
     "output_type": "stream",
     "text": [
      "Enter a character:  sghagdsghgsaa\n"
     ]
    },
    {
     "name": "stdout",
     "output_type": "stream",
     "text": [
      "Lowercase letter\n"
     ]
    }
   ],
   "source": [
    "char = input(\"Enter a character: \")\n",
    "\n",
    "if char.isalpha():\n",
    "    if char.islower():\n",
    "        print(\"Lowercase letter\")\n",
    "    else:\n",
    "        print(\"Uppercase letter\")\n",
    "elif char.isdigit():\n",
    "    print(\"Digit\")\n",
    "else:\n",
    "    print(\"Special character\")\n"
   ]
  },
  {
   "cell_type": "markdown",
   "id": "cc7d9e73-98c9-4dd0-88fc-2807a67c6d38",
   "metadata": {},
   "source": [
    "### Calculate the discounted price based on different purchase amounts:"
   ]
  },
  {
   "cell_type": "code",
   "execution_count": 30,
   "id": "cab5be7e-b099-4270-923b-cea418268e7d",
   "metadata": {},
   "outputs": [
    {
     "name": "stdin",
     "output_type": "stream",
     "text": [
      "Enter the purchase amount:  3000\n"
     ]
    },
    {
     "name": "stdout",
     "output_type": "stream",
     "text": [
      "Discounted price:  2700.0\n"
     ]
    }
   ],
   "source": [
    "purchase_amount = float(input(\"Enter the purchase amount: \"))\n",
    "\n",
    "if purchase_amount >= 1000:\n",
    "    discount = 0.1\n",
    "elif purchase_amount >= 500:\n",
    "    discount = 0.05\n",
    "else:\n",
    "    discount = 0\n",
    "\n",
    "discounted_price = purchase_amount - (purchase_amount * discount)\n",
    "print(\"Discounted price: \", discounted_price)\n"
   ]
  },
  {
   "cell_type": "markdown",
   "id": "f4b3ff99-c981-4705-bea9-46485577cd6a",
   "metadata": {},
   "source": [
    "### Calculate the electricity bill based on different consumption slabs:"
   ]
  },
  {
   "cell_type": "code",
   "execution_count": 32,
   "id": "08dc18e9-4c91-498b-a2de-8afaa7564e87",
   "metadata": {},
   "outputs": [
    {
     "name": "stdin",
     "output_type": "stream",
     "text": [
      "Enter the electricity consumption in kWh:  500\n"
     ]
    },
    {
     "name": "stdout",
     "output_type": "stream",
     "text": [
      "Electricity bill:  370.0\n"
     ]
    }
   ],
   "source": [
    "consumption = float(input(\"Enter the electricity consumption in kWh: \"))\n",
    "\n",
    "if consumption <= 100:\n",
    "    bill = consumption * 0.5\n",
    "elif consumption <= 300:\n",
    "    bill = 100 * 0.5 + (consumption - 100) * 0.7\n",
    "else:\n",
    "    bill = 100 * 0.5 + 200 * 0.7 + (consumption - 300) * 0.9\n",
    "\n",
    "    \n",
    "print(\"Electricity bill: \", bill)\n"
   ]
  },
  {
   "cell_type": "markdown",
   "id": "5d9d080f-7548-4594-8c03-228c27278b5f",
   "metadata": {},
   "source": [
    "### Determine the type of quadrilateral based on its angles and sides:"
   ]
  },
  {
   "cell_type": "code",
   "execution_count": 33,
   "id": "a9445514-ccdf-4a83-9b6b-50dd0c1ec9d2",
   "metadata": {},
   "outputs": [
    {
     "name": "stdin",
     "output_type": "stream",
     "text": [
      "Enter the first angle:  1\n",
      "Enter the second angle:  2\n",
      "Enter the third angle:  3\n",
      "Enter the fourth angle:  5\n"
     ]
    },
    {
     "name": "stdout",
     "output_type": "stream",
     "text": [
      "Invalid quadrilateral\n"
     ]
    }
   ],
   "source": [
    "angle1 = float(input(\"Enter the first angle: \"))\n",
    "angle2 = float(input(\"Enter the second angle: \"))\n",
    "angle3 = float(input(\"Enter the third angle: \"))\n",
    "angle4 = float(input(\"Enter the fourth angle: \"))\n",
    "\n",
    "if angle1 + angle2 + angle3 + angle4 == 360:\n",
    "    if angle1 == angle2 == angle3 == angle4:\n",
    "        print(\"Square\")\n",
    "    elif angle1 == angle3 and angle2 == angle4:\n",
    "        print(\"Rectangle\")\n",
    "    else:\n",
    "        print(\"Quadrilateral\")\n",
    "else:\n",
    "    print(\"Invalid quadrilateral\")\n"
   ]
  },
  {
   "cell_type": "markdown",
   "id": "affc76ea-ba2c-42e1-81b5-c825fc4eb67f",
   "metadata": {},
   "source": [
    "### Determine the season based on a user-provided month:"
   ]
  },
  {
   "cell_type": "code",
   "execution_count": 34,
   "id": "03f97cff-ac75-48bc-bbc0-5b80197a98fb",
   "metadata": {},
   "outputs": [
    {
     "name": "stdin",
     "output_type": "stream",
     "text": [
      "Enter the month (1-12):  4\n"
     ]
    },
    {
     "name": "stdout",
     "output_type": "stream",
     "text": [
      "Spring\n"
     ]
    }
   ],
   "source": [
    "month = int(input(\"Enter the month (1-12): \"))\n",
    "\n",
    "if 1 <= month <= 3:\n",
    "    print(\"Winter\")\n",
    "elif 4 <= month <= 6:\n",
    "    print(\"Spring\")\n",
    "elif 7 <= month <= 9:\n",
    "    print(\"Summer\")\n",
    "elif 10 <= month <= 12:\n",
    "    print(\"Fall\")\n",
    "else:\n",
    "    print(\"Invalid month\")\n"
   ]
  },
  {
   "cell_type": "markdown",
   "id": "f0983f40-b7c5-450a-94ad-4e12d2da74b8",
   "metadata": {},
   "source": [
    "### Determine the type of a year (leap or common) and month (30 or 31 days)"
   ]
  },
  {
   "cell_type": "code",
   "execution_count": 35,
   "id": "a848f0b1-3b7a-4927-8cd9-c50eefe03d98",
   "metadata": {},
   "outputs": [
    {
     "name": "stdin",
     "output_type": "stream",
     "text": [
      "Enter a year:  2021\n",
      "Enter a month (1-12):  5\n"
     ]
    },
    {
     "name": "stdout",
     "output_type": "stream",
     "text": [
      "Common year\n",
      "31 days\n"
     ]
    }
   ],
   "source": [
    "year = int(input(\"Enter a year: \"))\n",
    "month = int(input(\"Enter a month (1-12): \"))\n",
    "\n",
    "if (year % 4 == 0 and year % 100 != 0) or (year % 400 == 0):\n",
    "    print(\"Leap year\")\n",
    "else:\n",
    "    print(\"Common year\")\n",
    "\n",
    "if month in [1, 3, 5, 7, 8, 10, 12]:\n",
    "    print(\"31 days\")\n",
    "elif month in [4, 6, 9, 11]:\n",
    "    print(\"30 days\")\n",
    "elif month == 2:\n",
    "    if (year % 4 == 0 and year % 100 != 0) or (year % 400 == 0):\n",
    "        print(\"29 days (leap year)\")\n",
    "    else:\n",
    "        print(\"28 days (common year)\")\n",
    "else:\n",
    "    print(\"Invalid month\")\n"
   ]
  },
  {
   "cell_type": "markdown",
   "id": "c6edd767-b152-4d04-a945-cc947438b5eb",
   "metadata": {},
   "source": [
    "### Check if a given number is positive, negative, or zero:"
   ]
  },
  {
   "cell_type": "code",
   "execution_count": 36,
   "id": "e7452204-f62e-4d65-ae4b-fb2a983b73d2",
   "metadata": {},
   "outputs": [
    {
     "name": "stdin",
     "output_type": "stream",
     "text": [
      "Enter a number:  3\n"
     ]
    },
    {
     "name": "stdout",
     "output_type": "stream",
     "text": [
      "Positive number\n"
     ]
    }
   ],
   "source": [
    "num = float(input(\"Enter a number: \"))\n",
    "if num > 0:\n",
    "    print(\"Positive number\")\n",
    "elif num == 0:\n",
    "    print(\"Zero\")\n",
    "else:\n",
    "    print(\"Negative number\")\n"
   ]
  },
  {
   "cell_type": "markdown",
   "id": "ba305383-23b7-4d04-9507-132dd6539200",
   "metadata": {},
   "source": [
    "### Determine if a person is eligible to vote based on their age:"
   ]
  },
  {
   "cell_type": "code",
   "execution_count": 37,
   "id": "32d73b4c-5bf4-49b6-8316-45c9e567cc15",
   "metadata": {},
   "outputs": [
    {
     "name": "stdin",
     "output_type": "stream",
     "text": [
      "Enter your age:  2\n"
     ]
    },
    {
     "name": "stdout",
     "output_type": "stream",
     "text": [
      "You are not eligible to vote yet.\n"
     ]
    }
   ],
   "source": [
    "age = int(input(\"Enter your age: \"))\n",
    "if age >= 18:\n",
    "    print(\"You are eligible to vote.\")\n",
    "else:\n",
    "    print(\"You are not eligible to vote yet.\")\n"
   ]
  },
  {
   "cell_type": "markdown",
   "id": "00ad0d5d-95d6-4463-9c34-bda742e48e07",
   "metadata": {},
   "source": [
    "### Find the maximum of two given numbers:"
   ]
  },
  {
   "cell_type": "code",
   "execution_count": 38,
   "id": "025dab5e-ca18-40ee-adc7-749ebc3cd7a2",
   "metadata": {},
   "outputs": [
    {
     "name": "stdin",
     "output_type": "stream",
     "text": [
      "Enter the first number:  56\n",
      "Enter the second number:  78\n"
     ]
    },
    {
     "name": "stdout",
     "output_type": "stream",
     "text": [
      "Maximum:  78.0\n"
     ]
    }
   ],
   "source": [
    "num1 = float(input(\"Enter the first number: \"))\n",
    "num2 = float(input(\"Enter the second number: \"))\n",
    "if num1 > num2:\n",
    "    print(\"Maximum: \", num1)\n",
    "else:\n",
    "    print(\"Maximum: \", num2)\n"
   ]
  },
  {
   "cell_type": "markdown",
   "id": "cf8b3f22-e76a-46d6-a92f-cc42773857c9",
   "metadata": {},
   "source": [
    "### Calculate the grade of a student based on their exam score:"
   ]
  },
  {
   "cell_type": "code",
   "execution_count": 39,
   "id": "78f9a89f-b779-4611-ba21-37eb12a189c2",
   "metadata": {},
   "outputs": [
    {
     "name": "stdin",
     "output_type": "stream",
     "text": [
      "Enter the student's score:  55\n"
     ]
    },
    {
     "name": "stdout",
     "output_type": "stream",
     "text": [
      "Grade: F\n"
     ]
    }
   ],
   "source": [
    "score = float(input(\"Enter the student's score: \"))\n",
    "if 90 <= score <= 100:\n",
    "    print(\"Grade: A\")\n",
    "elif 80 <= score < 90:\n",
    "    print(\"Grade: B\")\n",
    "elif 70 <= score < 80:\n",
    "    print(\"Grade: C\")\n",
    "elif 60 <= score < 70:\n",
    "    print(\"Grade: D\")\n",
    "else:\n",
    "    print(\"Grade: F\")\n"
   ]
  },
  {
   "cell_type": "markdown",
   "id": "1a634012-564e-4b96-9d79-405bfc84355e",
   "metadata": {},
   "source": [
    "### Check if a year is a leap year or not:"
   ]
  },
  {
   "cell_type": "code",
   "execution_count": 40,
   "id": "24c05dcb-8724-4ebf-ae83-e6a931c49a57",
   "metadata": {},
   "outputs": [
    {
     "name": "stdin",
     "output_type": "stream",
     "text": [
      "Enter a year:  2023\n"
     ]
    },
    {
     "name": "stdout",
     "output_type": "stream",
     "text": [
      "Not a leap year\n"
     ]
    }
   ],
   "source": [
    "year = int(input(\"Enter a year: \"))\n",
    "if (year % 4 == 0 and year % 100 != 0) or (year % 400 == 0):\n",
    "    print(\"Leap year\")\n",
    "else:\n",
    "    print(\"Not a leap year\")\n"
   ]
  },
  {
   "cell_type": "markdown",
   "id": "45b5cd42-c313-46b6-ab66-151c870a294e",
   "metadata": {},
   "source": [
    "### Classify a triangle based on its sides' lengths:"
   ]
  },
  {
   "cell_type": "code",
   "execution_count": 41,
   "id": "887bd16c-f135-46bc-a47b-c21d92e85a2a",
   "metadata": {},
   "outputs": [
    {
     "name": "stdin",
     "output_type": "stream",
     "text": [
      "Enter the length of side 1:  2\n",
      "Enter the length of side 2:  3\n",
      "Enter the length of side 3:  2\n"
     ]
    },
    {
     "name": "stdout",
     "output_type": "stream",
     "text": [
      "Isosceles triangle\n"
     ]
    }
   ],
   "source": [
    "side1 = float(input(\"Enter the length of side 1: \"))\n",
    "side2 = float(input(\"Enter the length of side 2: \"))\n",
    "side3 = float(input(\"Enter the length of side 3: \"))\n",
    "\n",
    "if side1 == side2 == side3:\n",
    "    print(\"Equilateral triangle\")\n",
    "elif side1 == side2 or side1 == side3 or side2 == side3:\n",
    "    print(\"Isosceles triangle\")\n",
    "else:\n",
    "    print(\"Scalene triangle\")\n"
   ]
  },
  {
   "cell_type": "markdown",
   "id": "d43b1a81-2980-43e8-9659-4dc2b444adc9",
   "metadata": {},
   "source": [
    "### Determine the largest of three given numbers:"
   ]
  },
  {
   "cell_type": "code",
   "execution_count": 42,
   "id": "b7e9293a-2315-4005-a7d0-3e360ccaaa40",
   "metadata": {},
   "outputs": [
    {
     "name": "stdin",
     "output_type": "stream",
     "text": [
      "Enter the first number:  34\n",
      "Enter the second number:  34\n",
      "Enter the third number:  67\n"
     ]
    },
    {
     "name": "stdout",
     "output_type": "stream",
     "text": [
      "Largest:  67.0\n"
     ]
    }
   ],
   "source": [
    "num1 = float(input(\"Enter the first number: \"))\n",
    "num2 = float(input(\"Enter the second number: \"))\n",
    "num3 = float(input(\"Enter the third number: \"))\n",
    "\n",
    "if num1 >= num2 and num1 >= num3:\n",
    "    print(\"Largest: \", num1)\n",
    "elif num2 >= num1 and num2 >= num3:\n",
    "    print(\"Largest: \", num2)\n",
    "else:\n",
    "    print(\"Largest: \", num3)\n"
   ]
  },
  {
   "cell_type": "markdown",
   "id": "2705ba27-83d2-4342-973e-14843e90517f",
   "metadata": {},
   "source": [
    "### Check whether a character is a vowel or a consonant:"
   ]
  },
  {
   "cell_type": "code",
   "execution_count": 43,
   "id": "a48d7d84-29b8-48ad-8c10-3790d925ef08",
   "metadata": {},
   "outputs": [
    {
     "name": "stdin",
     "output_type": "stream",
     "text": [
      "Enter a character:  GJGJJGJHKKJHJHhhh\n"
     ]
    },
    {
     "name": "stdout",
     "output_type": "stream",
     "text": [
      "Consonant\n"
     ]
    }
   ],
   "source": [
    "char = input(\"Enter a character: \").lower()\n",
    "if char.isalpha():\n",
    "    if char in 'aeiou':\n",
    "        print(\"Vowel\")\n",
    "    else:\n",
    "        print(\"Consonant\")\n",
    "else:\n",
    "    print(\"Not a valid character\")\n"
   ]
  },
  {
   "cell_type": "markdown",
   "id": "585e1eec-922f-48ae-b7c4-b1737205bd5c",
   "metadata": {},
   "source": [
    "### Calculate the total cost of a shopping cart based on discounts:"
   ]
  },
  {
   "cell_type": "code",
   "execution_count": 44,
   "id": "09b7e2cd-e5f3-46b7-b289-b695bbb4859f",
   "metadata": {},
   "outputs": [
    {
     "name": "stdin",
     "output_type": "stream",
     "text": [
      "Enter the total cost of items:  34\n"
     ]
    },
    {
     "name": "stdout",
     "output_type": "stream",
     "text": [
      "Total cost after discount:  34.0\n"
     ]
    }
   ],
   "source": [
    "total_cost = float(input(\"Enter the total cost of items: \"))\n",
    "if total_cost >= 100:\n",
    "    discount = 0.1 * total_cost\n",
    "    total_cost -= discount\n",
    "print(\"Total cost after discount: \", total_cost)\n"
   ]
  },
  {
   "cell_type": "markdown",
   "id": "d25563b8-84f2-4e2f-8588-95c738dc704f",
   "metadata": {},
   "source": [
    "### Check if a given number is even or odd:"
   ]
  },
  {
   "cell_type": "code",
   "execution_count": 45,
   "id": "3b080cf1-d553-4acd-ae52-480f8b1a46ba",
   "metadata": {},
   "outputs": [
    {
     "name": "stdin",
     "output_type": "stream",
     "text": [
      "Enter a number:  44\n"
     ]
    },
    {
     "name": "stdout",
     "output_type": "stream",
     "text": [
      "Even number\n"
     ]
    }
   ],
   "source": [
    "num = int(input(\"Enter a number: \"))\n",
    "if num % 2 == 0:\n",
    "    print(\"Even number\")\n",
    "else:\n",
    "    print(\"Odd number\")\n"
   ]
  },
  {
   "cell_type": "markdown",
   "id": "2e71db66-3611-4ef4-a5b7-86c65f23ace3",
   "metadata": {},
   "source": [
    "### Calculate the roots of a quadratic equation:"
   ]
  },
  {
   "cell_type": "code",
   "execution_count": 46,
   "id": "ec548f74-d417-443a-b1f5-2bfebd9af9b4",
   "metadata": {},
   "outputs": [
    {
     "name": "stdin",
     "output_type": "stream",
     "text": [
      "Enter the coefficient a:  5\n",
      "Enter the coefficient b:  4\n",
      "Enter the coefficient c:  4\n"
     ]
    },
    {
     "name": "stdout",
     "output_type": "stream",
     "text": [
      "Complex roots:  -0.4 + 0.8 i and  -0.4 - 0.8 i\n"
     ]
    }
   ],
   "source": [
    "import math\n",
    "\n",
    "a = float(input(\"Enter the coefficient a: \"))\n",
    "b = float(input(\"Enter the coefficient b: \"))\n",
    "c = float(input(\"Enter the coefficient c: \"))\n",
    "\n",
    "discriminant = b**2 - 4*a*c\n",
    "\n",
    "if discriminant > 0:\n",
    "    root1 = (-b + math.sqrt(discriminant)) / (2*a)\n",
    "    root2 = (-b - math.sqrt(discriminant)) / (2*a)\n",
    "    print(\"Two distinct real roots: \", root1, \" and \", root2)\n",
    "elif discriminant == 0:\n",
    "    root = -b / (2*a)\n",
    "    print(\"One real root: \", root)\n",
    "else:\n",
    "    real_part = -b / (2*a)\n",
    "    imag_part = math.sqrt(abs(discriminant)) / (2*a)\n",
    "    print(\"Complex roots: \", real_part, \"+\", imag_part, \"i and \", real_part, \"-\", imag_part, \"i\")\n"
   ]
  },
  {
   "cell_type": "markdown",
   "id": "f90e9c63-09c1-4838-ab03-3e0886249724",
   "metadata": {},
   "source": [
    "### Determine the day of the week based on the day number (1-7):"
   ]
  },
  {
   "cell_type": "code",
   "execution_count": 47,
   "id": "34b7783b-f05e-41b9-b1e2-54f8eeecff61",
   "metadata": {},
   "outputs": [
    {
     "name": "stdin",
     "output_type": "stream",
     "text": [
      "Enter a number (1 for Monday, 2 for Tuesday, etc.):  1\n"
     ]
    },
    {
     "name": "stdout",
     "output_type": "stream",
     "text": [
      "Day of the week:  Monday\n"
     ]
    }
   ],
   "source": [
    "day_number = int(input(\"Enter a number (1 for Monday, 2 for Tuesday, etc.): \"))\n",
    "\n",
    "if 1 <= day_number <= 7:\n",
    "    days = [\"Monday\", \"Tuesday\", \"Wednesday\", \"Thursday\", \"Friday\", \"Saturday\", \"Sunday\"]\n",
    "    print(\"Day of the week: \", days[day_number - 1])\n",
    "else:\n",
    "    print(\"Invalid input\")\n"
   ]
  },
  {
   "cell_type": "markdown",
   "id": "6a28a3df-e3e5-419c-9e7d-adfcb3d9f03a",
   "metadata": {},
   "source": [
    "### Calculate the factorial of a given number using recursion:"
   ]
  },
  {
   "cell_type": "code",
   "execution_count": 48,
   "id": "d69fe28e-4a86-4383-b979-926618be868c",
   "metadata": {},
   "outputs": [
    {
     "name": "stdin",
     "output_type": "stream",
     "text": [
      "Enter a number:  23\n"
     ]
    },
    {
     "name": "stdout",
     "output_type": "stream",
     "text": [
      "Factorial of 23 is 25852016738884976640000\n"
     ]
    }
   ],
   "source": [
    "def factorial(n):\n",
    "    if n == 0 or n == 1:\n",
    "        return 1\n",
    "    else:\n",
    "        return n * factorial(n-1)\n",
    "\n",
    "num = int(input(\"Enter a number: \"))\n",
    "result = factorial(num)\n",
    "print(\"Factorial of\", num, \"is\", result)\n"
   ]
  },
  {
   "cell_type": "markdown",
   "id": "41ef6692-e222-4113-ad45-f8fffd6d5610",
   "metadata": {},
   "source": [
    "### Find the largest among three numbers without using the max() function:"
   ]
  },
  {
   "cell_type": "code",
   "execution_count": 49,
   "id": "77b546b6-e1bc-4739-a6f5-f3befb74c034",
   "metadata": {},
   "outputs": [
    {
     "name": "stdin",
     "output_type": "stream",
     "text": [
      "Enter the first number:  2\n",
      "Enter the second number:  2\n",
      "Enter the third number:  2\n"
     ]
    },
    {
     "name": "stdout",
     "output_type": "stream",
     "text": [
      "Largest:  2.0\n"
     ]
    }
   ],
   "source": [
    "num1 = float(input(\"Enter the first number: \"))\n",
    "num2 = float(input(\"Enter the second number: \"))\n",
    "num3 = float(input(\"Enter the third number: \"))\n",
    "\n",
    "largest = num1\n",
    "\n",
    "if num2 > largest:\n",
    "    largest = num2\n",
    "if num3 > largest:\n",
    "    largest = num3\n",
    "\n",
    "print(\"Largest: \", largest)\n"
   ]
  },
  {
   "cell_type": "markdown",
   "id": "da8c1f71-0ece-4c52-b581-fa5d3993d43f",
   "metadata": {},
   "source": [
    "### Simulate a basic ATM transaction menu:"
   ]
  },
  {
   "cell_type": "code",
   "execution_count": 50,
   "id": "e72cc762-c445-44be-a199-57973f330a33",
   "metadata": {},
   "outputs": [
    {
     "name": "stdout",
     "output_type": "stream",
     "text": [
      "1. Check Balance\n",
      "2. Deposit\n",
      "3. Withdraw\n"
     ]
    },
    {
     "name": "stdin",
     "output_type": "stream",
     "text": [
      "Enter your choice (1, 2, or 3):  2\n",
      "Enter the deposit amount: $ 2000\n"
     ]
    },
    {
     "name": "stdout",
     "output_type": "stream",
     "text": [
      "Deposit successful. Your new balance is: $ 3000.0\n"
     ]
    }
   ],
   "source": [
    "balance = 1000\n",
    "\n",
    "print(\"1. Check Balance\")\n",
    "print(\"2. Deposit\")\n",
    "print(\"3. Withdraw\")\n",
    "\n",
    "choice = int(input(\"Enter your choice (1, 2, or 3): \"))\n",
    "\n",
    "if choice == 1:\n",
    "    print(\"Your balance is: $\", balance)\n",
    "elif choice == 2:\n",
    "    deposit_amount = float(input(\"Enter the deposit amount: $\"))\n",
    "    balance += deposit_amount\n",
    "    print(\"Deposit successful. Your new balance is: $\", balance)\n",
    "elif choice == 3:\n",
    "    withdraw_amount = float(input(\"Enter the withdrawal amount: $\"))\n",
    "    if withdraw_amount <= balance:\n",
    "        balance -= withdraw_amount\n",
    "        print(\"Withdrawal successful. Your new balance is: $\", balance)\n",
    "    else:\n",
    "        print(\"Insufficient funds.\")\n",
    "else:\n",
    "    print(\"Invalid choice\")\n"
   ]
  },
  {
   "cell_type": "markdown",
   "id": "e94f1532-d11f-48aa-aab6-75ec78862b81",
   "metadata": {},
   "source": [
    "### Check if a given string is a palindrome or not:"
   ]
  },
  {
   "cell_type": "code",
   "execution_count": 51,
   "id": "5bd165b0-e139-4eac-b617-39c2da750437",
   "metadata": {},
   "outputs": [
    {
     "name": "stdin",
     "output_type": "stream",
     "text": [
      "Enter a string:  ggdgs agyh\n"
     ]
    },
    {
     "name": "stdout",
     "output_type": "stream",
     "text": [
      "Not a palindrome\n"
     ]
    }
   ],
   "source": [
    "def is_palindrome(s):\n",
    "    s = s.lower()\n",
    "    s = ''.join(c for c in s if c.isalnum())\n",
    "    return s == s[::-1]\n",
    "\n",
    "string = input(\"Enter a string: \")\n",
    "\n",
    "if is_palindrome(string):\n",
    "    print(\"Palindrome\")\n",
    "else:\n",
    "    print(\"Not a palindrome\")\n"
   ]
  },
  {
   "cell_type": "markdown",
   "id": "5db1575c-5f53-456d-94be-490d93d6bdf9",
   "metadata": {},
   "source": [
    "### Calculate the average of a list of numbers, excluding the smallest and largest values:"
   ]
  },
  {
   "cell_type": "code",
   "execution_count": 53,
   "id": "ef1fbd7b-1858-4fa1-94ab-9945aed7f830",
   "metadata": {},
   "outputs": [
    {
     "name": "stdin",
     "output_type": "stream",
     "text": [
      "Enter a list of numbers separated by spaces:  3333333333333\n"
     ]
    },
    {
     "name": "stdout",
     "output_type": "stream",
     "text": [
      "Please enter at least three numbers.\n"
     ]
    }
   ],
   "source": [
    "numbers = [float(x) for x in input(\"Enter a list of numbers separated by spaces: \").split()]\n",
    "\n",
    "if len(numbers) >= 3:\n",
    "    numbers.sort()\n",
    "    trimmed_numbers = numbers[1:-1]\n",
    "    average = sum(trimmed_numbers) / len(trimmed_numbers)\n",
    "    print(\"Average (excluding smallest and largest): \", average)\n",
    "    \n",
    "else:\n",
    "    print(\"Please enter at least three numbers.\")\n"
   ]
  },
  {
   "cell_type": "markdown",
   "id": "9c07dbac-b68b-4442-b760-1b2ab946b928",
   "metadata": {},
   "source": [
    "### Convert a given temperature from Celsius to Fahrenheit:"
   ]
  },
  {
   "cell_type": "code",
   "execution_count": 54,
   "id": "d6ae77a4-51b4-47dc-9f27-554c817e837e",
   "metadata": {},
   "outputs": [
    {
     "name": "stdin",
     "output_type": "stream",
     "text": [
      "Enter temperature in Celsius:  24\n"
     ]
    },
    {
     "name": "stdout",
     "output_type": "stream",
     "text": [
      "Temperature in Fahrenheit:  75.2\n"
     ]
    }
   ],
   "source": [
    "celsius = float(input(\"Enter temperature in Celsius: \"))\n",
    "fahrenheit = (celsius * 9/5) + 32\n",
    "print(\"Temperature in Fahrenheit: \", fahrenheit)\n"
   ]
  },
  {
   "cell_type": "markdown",
   "id": "31878c23-be79-4564-9beb-42927b298637",
   "metadata": {},
   "source": [
    "### Simulate a basic calculator for addition, subtraction, multiplication, and division:"
   ]
  },
  {
   "cell_type": "code",
   "execution_count": 55,
   "id": "e7d6966f-cf0c-4480-ba09-97b594c30907",
   "metadata": {},
   "outputs": [
    {
     "name": "stdin",
     "output_type": "stream",
     "text": [
      "Enter the first number:  12\n",
      "Enter the second number:  2\n"
     ]
    },
    {
     "name": "stdout",
     "output_type": "stream",
     "text": [
      "1. Add\n",
      "2. Subtract\n",
      "3. Multiply\n",
      "4. Divide\n"
     ]
    },
    {
     "name": "stdin",
     "output_type": "stream",
     "text": [
      "Enter the operation (1, 2, 3, or 4):  1\n"
     ]
    },
    {
     "name": "stdout",
     "output_type": "stream",
     "text": [
      "Result:  14.0\n"
     ]
    }
   ],
   "source": [
    "num1 = float(input(\"Enter the first number: \"))\n",
    "num2 = float(input(\"Enter the second number: \"))\n",
    "\n",
    "print(\"1. Add\")\n",
    "print(\"2. Subtract\")\n",
    "print(\"3. Multiply\")\n",
    "print(\"4. Divide\")\n",
    "\n",
    "operation = int(input(\"Enter the operation (1, 2, 3, or 4): \"))\n",
    "\n",
    "if operation == 1:\n",
    "    result = num1 + num2\n",
    "elif operation == 2:\n",
    "    result = num1 - num2\n",
    "elif operation == 3:\n",
    "    result = num1 * num2\n",
    "elif operation == 4:\n",
    "    if num2 != 0:\n",
    "        result = num1 / num2\n",
    "    else:\n",
    "        print(\"Cannot divide by zero.\")\n",
    "        result = None\n",
    "else:\n",
    "    print(\"Invalid operation\")\n",
    "    result = None\n",
    "\n",
    "if result is not None:\n",
    "    print(\"Result: \", result)\n"
   ]
  },
  {
   "cell_type": "markdown",
   "id": "a6850506-1452-41da-ae64-986a7949fa0b",
   "metadata": {},
   "source": [
    "### Calculate income tax based on user's income and tax brackets:"
   ]
  },
  {
   "cell_type": "code",
   "execution_count": 1,
   "id": "50f4baaa-e071-40f2-b566-8fec8074ca9b",
   "metadata": {},
   "outputs": [
    {
     "name": "stdin",
     "output_type": "stream",
     "text": [
      "Enter your income:  100000\n"
     ]
    },
    {
     "name": "stdout",
     "output_type": "stream",
     "text": [
      "Income tax: $ 22967.0\n"
     ]
    }
   ],
   "source": [
    "income = float(input(\"Enter your income: \"))\n",
    "\n",
    "if income <= 18200:\n",
    "    tax = 0\n",
    "elif 18201 <= income <= 45000:\n",
    "    tax = 0.19 * (income - 18200)\n",
    "elif 45001 <= income <= 120000:\n",
    "    tax = 5092 + 0.325 * (income - 45000)\n",
    "elif 120001 <= income <= 180000:\n",
    "    tax = 29467 + 0.37 * (income - 120000)\n",
    "else:\n",
    "    tax = 51667 + 0.45 * (income - 180000)\n",
    "\n",
    "print(\"Income tax: $\", tax)\n"
   ]
  },
  {
   "cell_type": "markdown",
   "id": "8165071d-749c-4b16-ae59-037866e7c8b5",
   "metadata": {},
   "source": [
    "### Simulate a rock-paper-scissors game against the computer:"
   ]
  },
  {
   "cell_type": "code",
   "execution_count": 2,
   "id": "477b53bd-f357-4c28-809f-d8d570ca559f",
   "metadata": {},
   "outputs": [
    {
     "name": "stdin",
     "output_type": "stream",
     "text": [
      "Enter your choice (rock, paper, or scissors):  rock\n"
     ]
    },
    {
     "name": "stdout",
     "output_type": "stream",
     "text": [
      "Computer's choice:  scissors\n",
      "You win!\n"
     ]
    }
   ],
   "source": [
    "import random\n",
    "\n",
    "choices = [\"rock\", \"paper\", \"scissors\"]\n",
    "\n",
    "user_choice = input(\"Enter your choice (rock, paper, or scissors): \").lower()\n",
    "computer_choice = random.choice(choices)\n",
    "\n",
    "print(\"Computer's choice: \", computer_choice)\n",
    "\n",
    "if user_choice in choices:\n",
    "    if user_choice == computer_choice:\n",
    "        print(\"It's a tie!\")\n",
    "    elif (user_choice == \"rock\" and computer_choice == \"scissors\") or \\\n",
    "         (user_choice == \"paper\" and computer_choice == \"rock\") or \\\n",
    "         (user_choice == \"scissors\" and computer_choice == \"paper\"):\n",
    "        print(\"You win!\")\n",
    "    else:\n",
    "        print(\"You lose!\")\n",
    "else:\n",
    "    print(\"Invalid choice\")\n"
   ]
  },
  {
   "cell_type": "markdown",
   "id": "f4d3b6e7-75b8-4d70-b3ca-966ab5ac74e1",
   "metadata": {},
   "source": [
    "### Generate a random password based on user preferences:"
   ]
  },
  {
   "cell_type": "code",
   "execution_count": 3,
   "id": "4f617927-69b3-4680-bbb4-7435633fdf2b",
   "metadata": {},
   "outputs": [
    {
     "name": "stdin",
     "output_type": "stream",
     "text": [
      "Enter the desired password length:  7\n",
      "Enter the desired complexity (weak, strong):  strong\n"
     ]
    },
    {
     "name": "stdout",
     "output_type": "stream",
     "text": [
      "Generated password:  LV9T$E!\n"
     ]
    }
   ],
   "source": [
    "import random\n",
    "import string\n",
    "\n",
    "length = int(input(\"Enter the desired password length: \"))\n",
    "complexity = input(\"Enter the desired complexity (weak, strong): \").lower()\n",
    "\n",
    "if complexity == \"weak\":\n",
    "    characters = string.ascii_letters + string.digits\n",
    "elif complexity == \"strong\":\n",
    "    characters = string.ascii_letters + string.digits + string.punctuation\n",
    "else:\n",
    "    print(\"Invalid complexity\")\n",
    "    characters = \"\"\n",
    "\n",
    "if characters:\n",
    "    password = ''.join(random.choice(characters) for _ in range(length))\n",
    "    print(\"Generated password: \", password)\n"
   ]
  },
  {
   "cell_type": "markdown",
   "id": "5203d3aa-9b6d-4e70-be79-29160d1642e8",
   "metadata": {},
   "source": [
    "### Implement a simple text-based adventure game with branching scenarios:"
   ]
  },
  {
   "cell_type": "code",
   "execution_count": 4,
   "id": "51a9178a-7b33-43b3-b84c-e96e29b67e2e",
   "metadata": {},
   "outputs": [
    {
     "name": "stdout",
     "output_type": "stream",
     "text": [
      "You find yourself in a dark room. There are two doors.\n"
     ]
    },
    {
     "name": "stdin",
     "output_type": "stream",
     "text": [
      "Do you go through door 1 or door 2?  2\n"
     ]
    },
    {
     "name": "stdout",
     "output_type": "stream",
     "text": [
      "You enter a room full of monsters. Game over!\n"
     ]
    }
   ],
   "source": [
    "print(\"You find yourself in a dark room. There are two doors.\")\n",
    "choice1 = input(\"Do you go through door 1 or door 2? \")\n",
    "\n",
    "if choice1 == \"1\":\n",
    "    print(\"You find a treasure chest full of gold! You win!\")\n",
    "elif choice1 == \"2\":\n",
    "    print(\"You enter a room full of monsters. Game over!\")\n",
    "else:\n",
    "    print(\"Invalid choice. Game over!\")\n"
   ]
  },
  {
   "cell_type": "markdown",
   "id": "995f42fd-20ec-46c3-9655-6230099e19f8",
   "metadata": {},
   "source": [
    "### Solve a linear equation for x, considering different cases"
   ]
  },
  {
   "cell_type": "code",
   "execution_count": 1,
   "id": "4d85f485-d933-4d22-b700-49657221a12a",
   "metadata": {},
   "outputs": [
    {
     "name": "stdin",
     "output_type": "stream",
     "text": [
      "Enter the coefficient a:  3\n",
      "Enter the coefficient b:  3\n"
     ]
    },
    {
     "name": "stdout",
     "output_type": "stream",
     "text": [
      "Solution: x = -1.0\n"
     ]
    }
   ],
   "source": [
    "a = float(input(\"Enter the coefficient a: \"))\n",
    "b = float(input(\"Enter the coefficient b: \"))\n",
    "\n",
    "if a == 0:\n",
    "    if b == 0:\n",
    "        print(\"Infinite solutions (all real numbers are solutions)\")\n",
    "    else:\n",
    "        print(\"No solution (contradiction)\")\n",
    "else:\n",
    "    x = -b / a\n",
    "    print(\"Solution: x =\", x)\n"
   ]
  },
  {
   "cell_type": "markdown",
   "id": "2bd377ec-422a-4569-9e9d-1db140ce06b6",
   "metadata": {},
   "source": [
    "### Simulate a basic quiz game with multiple-choice questions and scoring:"
   ]
  },
  {
   "cell_type": "code",
   "execution_count": 2,
   "id": "1e8b6798-6dd8-4ec2-9435-a0fb4329a36b",
   "metadata": {},
   "outputs": [
    {
     "name": "stdin",
     "output_type": "stream",
     "text": [
      "What is the capital of France?  paris\n"
     ]
    },
    {
     "name": "stdout",
     "output_type": "stream",
     "text": [
      "Correct!\n"
     ]
    },
    {
     "name": "stdin",
     "output_type": "stream",
     "text": [
      "What is the largest planet in our solar system?  jupiter\n"
     ]
    },
    {
     "name": "stdout",
     "output_type": "stream",
     "text": [
      "Correct!\n"
     ]
    },
    {
     "name": "stdin",
     "output_type": "stream",
     "text": [
      "Who wrote 'Romeo and Juliet'?  william shakespeare\n"
     ]
    },
    {
     "name": "stdout",
     "output_type": "stream",
     "text": [
      "Correct!\n",
      "Your final score: 3\n"
     ]
    }
   ],
   "source": [
    "questions = {\n",
    "    \"What is the capital of France?\": \"Paris\",\n",
    "    \"What is the largest planet in our solar system?\": \"Jupiter\",\n",
    "    \"Who wrote 'Romeo and Juliet'?\": \"William Shakespeare\"\n",
    "}\n",
    "\n",
    "score = 0\n",
    "\n",
    "for question, answer in questions.items():\n",
    "    user_answer = input(question + \" \")\n",
    "    if user_answer.lower() == answer.lower():\n",
    "        print(\"Correct!\")\n",
    "        score += 1\n",
    "    else:\n",
    "        print(\"Incorrect. The correct answer is\", answer)\n",
    "\n",
    "print(\"Your final score:\", score)\n"
   ]
  },
  {
   "cell_type": "markdown",
   "id": "83fd07d1-9a9f-4ce7-a7f1-f41a3e0437dd",
   "metadata": {},
   "source": [
    "### Determine whether a given year is a prime number or not:"
   ]
  },
  {
   "cell_type": "code",
   "execution_count": 4,
   "id": "e793cdd8-ada6-4fa8-aff4-3c5163af7b0d",
   "metadata": {},
   "outputs": [
    {
     "name": "stdin",
     "output_type": "stream",
     "text": [
      "Enter a year:  2032\n"
     ]
    },
    {
     "name": "stdout",
     "output_type": "stream",
     "text": [
      "Not a prime year\n"
     ]
    }
   ],
   "source": [
    "def is_prime(year):\n",
    "    if year < 2:\n",
    "        return False\n",
    "    for i in range(2, int(year**0.5) + 1):\n",
    "        if year % i == 0:\n",
    "            return False\n",
    "    return True\n",
    "\n",
    "year = int(input(\"Enter a year: \"))\n",
    "\n",
    "if is_prime(year):\n",
    "    print(\"Prime year\")\n",
    "else:\n",
    "    print(\"Not a prime year\")\n"
   ]
  },
  {
   "cell_type": "markdown",
   "id": "4ee7c769-e349-4b32-a299-ea32293e2aa7",
   "metadata": {},
   "source": [
    "### Sort three numbers in ascending order using conditional statements:"
   ]
  },
  {
   "cell_type": "code",
   "execution_count": 5,
   "id": "240123e3-23f5-4608-a463-6729dc05af6c",
   "metadata": {},
   "outputs": [
    {
     "name": "stdin",
     "output_type": "stream",
     "text": [
      "Enter the first number:  1\n",
      "Enter the second number:  1\n",
      "Enter the third number:  2\n"
     ]
    },
    {
     "name": "stdout",
     "output_type": "stream",
     "text": [
      "Sorted order:  1.0 1.0 2.0\n"
     ]
    }
   ],
   "source": [
    "num1 = float(input(\"Enter the first number: \"))\n",
    "num2 = float(input(\"Enter the second number: \"))\n",
    "num3 = float(input(\"Enter the third number: \"))\n",
    "\n",
    "if num1 <= num2 <= num3:\n",
    "    print(\"Sorted order: \", num1, num2, num3)\n",
    "elif num1 <= num3 <= num2:\n",
    "    print(\"Sorted order: \", num1, num3, num2)\n",
    "elif num2 <= num1 <= num3:\n",
    "    print(\"Sorted order: \", num2, num1, num3)\n",
    "elif num2 <= num3 <= num1:\n",
    "    print(\"Sorted order: \", num2, num3, num1)\n",
    "elif num3 <= num1 <= num2:\n",
    "    print(\"Sorted order: \", num3, num1, num2)\n",
    "else:\n",
    "    print(\"Sorted order: \", num3, num2, num1)\n"
   ]
  },
  {
   "cell_type": "markdown",
   "id": "92043a9b-0176-45e0-8286-064594b8c2a1",
   "metadata": {},
   "source": [
    "### Validate a password based on complexity rules:"
   ]
  },
  {
   "cell_type": "code",
   "execution_count": 7,
   "id": "f05a7c91-d213-4c80-aa78-7894d2311f33",
   "metadata": {},
   "outputs": [
    {
     "name": "stdin",
     "output_type": "stream",
     "text": [
      "Enter your password:  hjhjhjhjh\n"
     ]
    },
    {
     "name": "stdout",
     "output_type": "stream",
     "text": [
      "Password must contain at least one uppercase letter.\n"
     ]
    }
   ],
   "source": [
    "import re\n",
    "\n",
    "password = input(\"Enter your password: \")\n",
    "\n",
    "if len(password) < 8:\n",
    "    print(\"Password must be at least 8 characters long.\")\n",
    "elif not re.search(\"[a-z]\", password):\n",
    "    print(\"Password must contain at least one lowercase letter.\")\n",
    "elif not re.search(\"[A-Z]\", password):\n",
    "    print(\"Password must contain at least one uppercase letter.\")\n",
    "elif not re.search(\"[0-9]\", password):\n",
    "    print(\"Password must contain at least one digit.\")\n",
    "elif not re.search(\"[!@#$%^&*(),.?\\\":{}|<>]\", password):\n",
    "    print(\"Password must contain at least one special character.\")\n",
    "else:\n",
    "    print(\"Password is valid.\")\n"
   ]
  },
  {
   "cell_type": "markdown",
   "id": "7c0fd2d1-0be7-4266-9b88-96e4d2920b1c",
   "metadata": {},
   "source": [
    "### Perform matrix addition and subtraction:"
   ]
  },
  {
   "cell_type": "code",
   "execution_count": 8,
   "id": "953e774e-b846-4384-9767-7d4ea0532395",
   "metadata": {},
   "outputs": [
    {
     "name": "stdout",
     "output_type": "stream",
     "text": [
      "Matrix Addition:\n",
      "[10, 10, 10]\n",
      "[10, 10, 10]\n",
      "[10, 10, 10]\n",
      "\n",
      "Matrix Subtraction:\n",
      "[-8, -6, -4]\n",
      "[-2, 0, 2]\n",
      "[4, 6, 8]\n"
     ]
    }
   ],
   "source": [
    "def matrix_addition(matrix1, matrix2):\n",
    "    result = [[0 for _ in range(len(matrix1[0]))] for _ in range(len(matrix1))]\n",
    "    for i in range(len(matrix1)):\n",
    "        for j in range(len(matrix1[0])):\n",
    "            result[i][j] = matrix1[i][j] + matrix2[i][j]\n",
    "    return result\n",
    "\n",
    "def matrix_subtraction(matrix1, matrix2):\n",
    "    result = [[0 for _ in range(len(matrix1[0]))] for _ in range(len(matrix1))]\n",
    "    for i in range(len(matrix1)):\n",
    "        for j in range(len(matrix1[0])):\n",
    "            result[i][j] = matrix1[i][j] - matrix2[i][j]\n",
    "    return result\n",
    "\n",
    "matrix1 = [[1, 2, 3], [4, 5, 6], [7, 8, 9]]\n",
    "matrix2 = [[9, 8, 7], [6, 5, 4], [3, 2, 1]]\n",
    "\n",
    "result_addition = matrix_addition(matrix1, matrix2)\n",
    "result_subtraction = matrix_subtraction(matrix1, matrix2)\n",
    "\n",
    "print(\"Matrix Addition:\")\n",
    "for row in result_addition:\n",
    "    print(row)\n",
    "\n",
    "print(\"\\nMatrix Subtraction:\")\n",
    "for row in result_subtraction:\n",
    "    print(row)\n"
   ]
  },
  {
   "cell_type": "markdown",
   "id": "d93717e5-ab31-49eb-ac30-b9a3fd50c064",
   "metadata": {},
   "source": [
    "### Calculate the greatest common divisor (GCD) using the Euclidean algorithm:"
   ]
  },
  {
   "cell_type": "code",
   "execution_count": 10,
   "id": "7a0ae5b1-b901-4957-a782-2f835ec34e11",
   "metadata": {},
   "outputs": [
    {
     "name": "stdin",
     "output_type": "stream",
     "text": [
      "Enter the first number:  1\n",
      "Enter the second number:  2\n"
     ]
    },
    {
     "name": "stdout",
     "output_type": "stream",
     "text": [
      "GCD: 1\n"
     ]
    }
   ],
   "source": [
    "def gcd(a, b):\n",
    "    while b:\n",
    "        a, b = b, a % b\n",
    "    return a\n",
    "\n",
    "num1 = int(input(\"Enter the first number: \"))\n",
    "num2 = int(input(\"Enter the second number: \"))\n",
    "\n",
    "result_gcd = gcd(num1, num2)\n",
    "print(\"GCD:\", result_gcd)\n"
   ]
  },
  {
   "cell_type": "markdown",
   "id": "b0ff6001-e983-4747-9f36-6365ab48bfe9",
   "metadata": {},
   "source": [
    "### Perform matrix multiplication:"
   ]
  },
  {
   "cell_type": "code",
   "execution_count": 11,
   "id": "154fd061-e2ae-41ed-bfa4-06e3a8cec83a",
   "metadata": {},
   "outputs": [
    {
     "name": "stdout",
     "output_type": "stream",
     "text": [
      "Matrix Multiplication:\n",
      "[30, 24, 18]\n",
      "[84, 69, 54]\n",
      "[138, 114, 90]\n"
     ]
    }
   ],
   "source": [
    "def matrix_multiplication(matrix1, matrix2):\n",
    "    result = [[0 for _ in range(len(matrix2[0]))] for _ in range(len(matrix1))]\n",
    "    for i in range(len(matrix1)):\n",
    "        for j in range(len(matrix2[0])):\n",
    "            for k in range(len(matrix2)):\n",
    "                result[i][j] += matrix1[i][k] * matrix2[k][j]\n",
    "    return result\n",
    "\n",
    "matrix1 = [[1, 2, 3], [4, 5, 6], [7, 8, 9]]\n",
    "matrix2 = [[9, 8, 7], [6, 5, 4], [3, 2, 1]]\n",
    "\n",
    "result_multiplication = matrix_multiplication(matrix1, matrix2)\n",
    "\n",
    "print(\"Matrix Multiplication:\")\n",
    "for row in result_multiplication:\n",
    "    print(row)\n"
   ]
  },
  {
   "cell_type": "markdown",
   "id": "5423e746-9a6f-4f60-9c9d-c613983c00cd",
   "metadata": {},
   "source": [
    "### Generate Fibonacci numbers up to a specified term using iterative methods:"
   ]
  },
  {
   "cell_type": "code",
   "execution_count": 13,
   "id": "3cd1af91-a42f-46b9-8842-58d446fed0d9",
   "metadata": {},
   "outputs": [
    {
     "name": "stdin",
     "output_type": "stream",
     "text": [
      "Enter the number of terms for the Fibonacci sequence:  4\n"
     ]
    },
    {
     "name": "stdout",
     "output_type": "stream",
     "text": [
      "Fibonacci sequence: [0, 1, 1, 2]\n"
     ]
    }
   ],
   "source": [
    "def generate_fibonacci(n):\n",
    "    fibonacci_sequence = [0, 1]\n",
    "    for i in range(2, n):\n",
    "        next_term = fibonacci_sequence[i - 1] + fibonacci_sequence[i - 2]\n",
    "        fibonacci_sequence.append(next_term)\n",
    "    return fibonacci_sequence\n",
    "\n",
    "terms = int(input(\"Enter the number of terms for the Fibonacci sequence: \"))\n",
    "result_fibonacci = generate_fibonacci(terms)\n",
    "print(\"Fibonacci sequence:\", result_fibonacci)\n"
   ]
  },
  {
   "cell_type": "code",
   "execution_count": null,
   "id": "d6909b3b-6ea6-472a-9723-23a69e1f1f1a",
   "metadata": {},
   "outputs": [],
   "source": []
  }
 ],
 "metadata": {
  "kernelspec": {
   "display_name": "Python 3 (ipykernel)",
   "language": "python",
   "name": "python3"
  },
  "language_info": {
   "codemirror_mode": {
    "name": "ipython",
    "version": 3
   },
   "file_extension": ".py",
   "mimetype": "text/x-python",
   "name": "python",
   "nbconvert_exporter": "python",
   "pygments_lexer": "ipython3",
   "version": "3.10.8"
  }
 },
 "nbformat": 4,
 "nbformat_minor": 5
}
