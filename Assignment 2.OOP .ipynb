{
 "cells": [
  {
   "cell_type": "markdown",
   "id": "cc20623c-aa16-4bdd-8501-f77790c1c5cd",
   "metadata": {},
   "source": [
    "## Constructor:"
   ]
  },
  {
   "cell_type": "markdown",
   "id": "4414c3ab-ab8e-4333-91d0-9e077e3ba2f8",
   "metadata": {},
   "source": [
    "### 1. What is a constructor in Python? Explain its purpose and usage."
   ]
  },
  {
   "cell_type": "markdown",
   "id": "9d386a41-986e-4ca8-9b0c-301c42ccbd5f",
   "metadata": {},
   "source": [
    "#### Constructor in Python: A constructor in Python is a special method within a class that is automatically called when an object of the class is created. It is used for initializing the attributes of the object and performing any setup necessary for the object to function correctly.\n",
    "\n",
    "#### Purpose:\n",
    "\n",
    "#### Initialize the attributes of an object.\n",
    "#### Set up the initial state of the object.\n",
    "#### Perform any necessary actions when an object is created.\n",
    "\n",
    "#### Usage: The constructor method is named __init__ and is defined within the class."
   ]
  },
  {
   "cell_type": "markdown",
   "id": "42ded0e4-f6c8-499d-a698-e48e6625ae65",
   "metadata": {},
   "source": [
    "### 2 .Differentiate between a parameterless constructor and a parameterized constructor in Python."
   ]
  },
  {
   "cell_type": "markdown",
   "id": "862f0b30-ccb8-466b-bedd-9efe2f0afc43",
   "metadata": {},
   "source": [
    "#### * Parameterless Constructor: Does not take any parameters. It is defined without any additional parameters in the __init__ method."
   ]
  },
  {
   "cell_type": "markdown",
   "id": "dedf5672-37aa-4cb4-8031-36ab8892d381",
   "metadata": {},
   "source": [
    "#### * Parameterized Constructor: Takes parameters to initialize attributes. It is defined with additional parameters in the __init__ method."
   ]
  },
  {
   "cell_type": "markdown",
   "id": "50488a82-9571-4a66-afee-8a7326562d8a",
   "metadata": {},
   "source": [
    "### 3.  How do you define a constructor in a Python class? Provide an example."
   ]
  },
  {
   "cell_type": "code",
   "execution_count": null,
   "id": "3ad17a2e-ff4b-4775-bb21-8bf31f0678a3",
   "metadata": {},
   "outputs": [],
   "source": [
    "class Example:\n",
    "    def __init__(self, param1, param2):\n",
    "        self.param1 = param1\n",
    "        self.param2 = param2\n",
    "\n",
    "# Example usage:\n",
    "obj = Example(param1_value, param2_value)\n"
   ]
  },
  {
   "cell_type": "markdown",
   "id": "560b46c6-baff-46a3-960c-60564b0d3ba7",
   "metadata": {},
   "source": [
    "### 4. Explain the `__init__` method in Python and its role in constructors."
   ]
  },
  {
   "cell_type": "markdown",
   "id": "a929e5f1-0079-4095-b27e-ff14fea3de68",
   "metadata": {},
   "source": [
    "### The __init__ method is a special method used for initializing the object's attributes.\n",
    "### It is automatically called when an object is created from the class."
   ]
  },
  {
   "cell_type": "markdown",
   "id": "519748f3-066a-44ca-82d8-c3915d1d9621",
   "metadata": {},
   "source": [
    "### 5 .In a class named `Person`, create a constructor that initializes the `name` and `age` attributes. Provide an\n",
    "    example of creating an object of this class."
   ]
  },
  {
   "cell_type": "code",
   "execution_count": null,
   "id": "fd90894e-2242-487c-8c5d-8624499c7835",
   "metadata": {},
   "outputs": [],
   "source": [
    "class Person:\n",
    "    def __init__(self, name, age):\n",
    "        self.name = name\n",
    "        self.age = age\n",
    "\n",
    "# Creating an object of the Person class\n",
    "person1 = Person(\"John\", 25)\n"
   ]
  },
  {
   "cell_type": "markdown",
   "id": "49e059f8-ec57-4d16-ae9a-6de7670d5efd",
   "metadata": {},
   "source": [
    "### 6. How can you call a constructor explicitly in Python? Give an example."
   ]
  },
  {
   "cell_type": "code",
   "execution_count": null,
   "id": "c8097e8a-5ba2-4521-8e46-99a2c688b2c4",
   "metadata": {},
   "outputs": [],
   "source": [
    "obj = MyClass()  # Implicit call\n",
    "obj.__init__()   # Explicit call (rarely used)\n"
   ]
  },
  {
   "cell_type": "markdown",
   "id": "a59ce6f6-47e5-440d-b0e7-02a635a2af4e",
   "metadata": {},
   "source": [
    "### 7.What is the significance of the `self` parameter in Python constructors? Explain with an example."
   ]
  },
  {
   "cell_type": "code",
   "execution_count": null,
   "id": "77ed2c0e-93df-47c9-9a94-c5e0334b0ba5",
   "metadata": {},
   "outputs": [],
   "source": [
    "class MyClass:\n",
    "    def __init__(self, attribute):\n",
    "        self.attribute = attribute\n",
    "\n",
    "obj = MyClass(\"example\")\n",
    "print(obj.attribute)  # Output: example\n"
   ]
  },
  {
   "cell_type": "markdown",
   "id": "54277951-1a4a-4bad-82e3-6510dd22bf81",
   "metadata": {},
   "source": [
    "### 8. Discuss the concept of default constructors in Python. When are they used?"
   ]
  },
  {
   "cell_type": "code",
   "execution_count": null,
   "id": "4098a189-2ef4-4105-a545-3c6b16ecc5b8",
   "metadata": {},
   "outputs": [],
   "source": [
    "#### In Python, if you don't define a constructor, a default constructor is provided.\n",
    "#### It doesn't initialize any attributes but is still called when an object is created."
   ]
  },
  {
   "cell_type": "markdown",
   "id": "3b979f21-b503-4616-9f8e-51535f5d5e96",
   "metadata": {},
   "source": [
    "### 9. Create a Python class called `Rectangle` with a constructor that initializes the `width` and `height`\n",
    "### attributes. Provide a method to calculate the area of the rectangle."
   ]
  },
  {
   "cell_type": "code",
   "execution_count": null,
   "id": "4c982770-e4b1-4d44-bed9-b1dcd820a915",
   "metadata": {},
   "outputs": [],
   "source": [
    "class Rectangle:\n",
    "    def __init__(self, width, height):\n",
    "        self.width = width\n",
    "        self.height = height\n",
    "\n",
    "    def calculate_area(self):\n",
    "        return self.width * self.height\n"
   ]
  },
  {
   "cell_type": "markdown",
   "id": "8ca5cef4-5e2a-49e5-8203-8f6268efcb3b",
   "metadata": {},
   "source": [
    "### 10. How can you have multiple constructors in a Python class? Explain with an example."
   ]
  },
  {
   "cell_type": "code",
   "execution_count": null,
   "id": "9e7edc3a-4525-4066-88a2-c58cb81b3610",
   "metadata": {},
   "outputs": [],
   "source": [
    "class MyClass:\n",
    "    def __init__(self, param1=None, param2=None):\n",
    "        # constructor logic\n"
   ]
  },
  {
   "cell_type": "markdown",
   "id": "aa543657-8b8b-43c3-8beb-d88efe3cb4da",
   "metadata": {},
   "source": [
    "### 11. What is method overloading, and how is it related to constructors in Python?"
   ]
  },
  {
   "cell_type": "markdown",
   "id": "785563c1-95af-4f37-a79e-4343ddc5421a",
   "metadata": {},
   "source": [
    "#### Python doesn't support method overloading in the traditional sense.\n",
    "#### You can achieve similar behavior by using default values for parameters."
   ]
  },
  {
   "cell_type": "markdown",
   "id": "07a0faff-0985-4b7c-a8d8-66230995ccf1",
   "metadata": {},
   "source": [
    "### 12. Explain the use of the `super()` function in Python constructors. Provide an example."
   ]
  },
  {
   "cell_type": "code",
   "execution_count": null,
   "id": "dd4242c5-2b0e-4e84-b986-5ffa8e6b26d4",
   "metadata": {},
   "outputs": [],
   "source": [
    "class ChildClass(ParentClass):\n",
    "    def __init__(self, param):\n",
    "        super().__init__(param)\n",
    "        # constructor logic for ChildClass\n"
   ]
  },
  {
   "cell_type": "markdown",
   "id": "db1d9845-2955-4fd1-9dd4-0245dde988d8",
   "metadata": {},
   "source": [
    "### 13. Create a class called `Book` with a constructor that initializes the `title`, `author`, and `published_year`attributes. Provide a method to display book details.\n"
   ]
  },
  {
   "cell_type": "code",
   "execution_count": null,
   "id": "2e05cbaf-dfc0-4de6-91cf-14bb720e10af",
   "metadata": {},
   "outputs": [],
   "source": [
    "class Book:\n",
    "    def __init__(self, title, author, published_year):\n",
    "        self.title = title\n",
    "        self.author = author\n",
    "        self.published_year = published_year\n",
    "\n",
    "    def display_details(self):\n",
    "        print(f\"Title: {self.title}, Author: {self.author}, Published Year: {self.published_year}\")\n"
   ]
  },
  {
   "cell_type": "markdown",
   "id": "d84d430d-a9a1-4da4-b6fa-bc6cb012805f",
   "metadata": {},
   "source": [
    "### 14. Discuss the differences between constructors and regular methods in Python classes."
   ]
  },
  {
   "cell_type": "markdown",
   "id": "18c222da-8420-40c8-9875-9003eb9787a9",
   "metadata": {},
   "source": [
    "#### Constructors are called automatically when an object is created.\n",
    "#### Regular methods are called explicitly on objects.\n",
    "#### Constructors initialize object attributes; regular methods perform actions or computations."
   ]
  },
  {
   "cell_type": "markdown",
   "id": "f315d963-00c5-4c06-bade-1eb412847f64",
   "metadata": {},
   "source": [
    "### 15. Explain the role of the `self` parameter in instance variable initialization within a constructor."
   ]
  },
  {
   "cell_type": "markdown",
   "id": "4b2cb828-a93e-4043-af93-3690a2abcf96",
   "metadata": {},
   "source": [
    "#### self refers to the instance of the class.\n",
    "#### It is used to access and initialize instance variables within the constructor.\n",
    "#### Example: See question 7."
   ]
  },
  {
   "cell_type": "markdown",
   "id": "ef40b4e8-7226-4e57-aeb1-12213b729f30",
   "metadata": {},
   "source": [
    "### 16. How do you prevent a class from having multiple instances by using constructors in Python? Provide an example.\n"
   ]
  },
  {
   "cell_type": "code",
   "execution_count": null,
   "id": "30eda719-2151-41b1-955c-f0c77685783e",
   "metadata": {},
   "outputs": [],
   "source": [
    "class Singleton:\n",
    "    _instance_created = False\n",
    "\n",
    "    def __init__(self):\n",
    "        if not Singleton._instance_created:\n",
    "            Singleton._instance_created = True\n",
    "        else:\n",
    "            raise Exception(\"Singleton class cannot have multiple instances.\")\n"
   ]
  },
  {
   "cell_type": "markdown",
   "id": "34b3e1d2-df27-43b5-b4ae-16c481704461",
   "metadata": {},
   "source": [
    "### 17. Create a Python class called `Student` with a constructor that takes a list of subjects as a parameter and initializes the `subjects` attribute.\n"
   ]
  },
  {
   "cell_type": "code",
   "execution_count": null,
   "id": "f7702243-bc46-46f3-aafe-1e88dcbc1a50",
   "metadata": {},
   "outputs": [],
   "source": [
    "class Student:\n",
    "    def __init__(self, subjects):\n",
    "        self.subjects = subjects\n"
   ]
  },
  {
   "cell_type": "markdown",
   "id": "e2bbaaa2-e438-4f47-990d-27671bf58bac",
   "metadata": {},
   "source": [
    "### 18. What is the purpose of the `__del__` method in Python classes, and how does it relate to constructors?"
   ]
  },
  {
   "cell_type": "markdown",
   "id": "23069aa2-ce4c-4732-a9a1-2bf88b883d76",
   "metadata": {},
   "source": [
    "#### The __del__ method is called when an object is about to be destroyed.\n",
    "#### It is not used for object initialization.\n",
    "#### It's related to cleanup rather than construction."
   ]
  },
  {
   "cell_type": "markdown",
   "id": "8185752a-7918-4a0f-a6c5-852667cdea80",
   "metadata": {},
   "source": [
    "### 19. Explain the use of constructor chaining in Python. Provide a practical example."
   ]
  },
  {
   "cell_type": "code",
   "execution_count": null,
   "id": "21357f41-66e5-4426-922c-a4cfdf10092b",
   "metadata": {},
   "outputs": [],
   "source": [
    "class A:\n",
    "    def __init__(self, x):\n",
    "        self.x = x\n",
    "\n",
    "class B(A):\n",
    "    def __init__(self, x, y):\n",
    "        super().__init__(x)\n",
    "        self.y = y\n"
   ]
  },
  {
   "cell_type": "markdown",
   "id": "7404af8b-78bd-4a5b-850f-8c985bc17960",
   "metadata": {},
   "source": [
    "### 20. Create a Python class called `Car` with a default constructor that initializes the `make` and `model` attributes. Provide a method to display car information.\n"
   ]
  },
  {
   "cell_type": "code",
   "execution_count": null,
   "id": "8547b6cd-3430-495c-9008-92234b2c78ef",
   "metadata": {},
   "outputs": [],
   "source": [
    "class Car:\n",
    "    def __init__(self, make, model):\n",
    "        self.make = make\n",
    "        self.model = model\n",
    "\n",
    "    def display_info(self):\n",
    "        print(f\"Car: {self.make} {self.model}\")\n"
   ]
  },
  {
   "cell_type": "markdown",
   "id": "4d8b8741-e9bd-4482-abf5-5c64b12217e0",
   "metadata": {},
   "source": [
    "## Inheritance:"
   ]
  },
  {
   "cell_type": "markdown",
   "id": "c4597feb-58e6-4509-bf72-a6c69304b1f8",
   "metadata": {},
   "source": [
    "### 1. What is inheritance in Python? Explain its significance in object-oriented programming."
   ]
  },
  {
   "cell_type": "markdown",
   "id": "287f4f4c-5325-4092-b38b-4cdbd9da22bc",
   "metadata": {},
   "source": [
    "#### Inheritance is a fundamental concept in object-oriented programming (OOP) where a class (subclass or derived class) can inherit attributes and methods from another class (superclass or base class).\n",
    "#### Significance: It promotes code reusability, extensibility, and the creation of a hierarchy of classes."
   ]
  },
  {
   "cell_type": "markdown",
   "id": "54277f14-bb58-4ea1-a30f-0fa35340750a",
   "metadata": {},
   "source": [
    "### 2. Differentiate between single inheritance and multiple inheritance in Python. Provide examples for each."
   ]
  },
  {
   "cell_type": "markdown",
   "id": "ff9c786d-cdb7-4f42-bcb6-e870b7be2e4a",
   "metadata": {},
   "source": [
    "#### Single Inheritance: A class inherits from only one superclass."
   ]
  },
  {
   "cell_type": "code",
   "execution_count": null,
   "id": "89ca9131-65a9-445f-bdd0-38476c20707f",
   "metadata": {},
   "outputs": [],
   "source": [
    "class A:\n",
    "    pass\n",
    "\n",
    "class B(A):\n",
    "    pass\n"
   ]
  },
  {
   "cell_type": "markdown",
   "id": "9a0bd51c-5333-4ec1-928e-498584768185",
   "metadata": {},
   "source": [
    "#### Multiple Inheritance: A class inherits from more than one superclass."
   ]
  },
  {
   "cell_type": "code",
   "execution_count": null,
   "id": "b81f71eb-6ed3-4420-b4ba-9824cf364558",
   "metadata": {},
   "outputs": [],
   "source": [
    "class A:\n",
    "    pass\n",
    "\n",
    "class B:\n",
    "    pass\n",
    "\n",
    "class C(A, B):\n",
    "    pass\n"
   ]
  },
  {
   "cell_type": "markdown",
   "id": "98215aff-3c99-4f5e-b63f-fead53cd7222",
   "metadata": {},
   "source": [
    "### 3. Create a Python class called `Vehicle` with attributes `color` and `speed`. Then, create a child class called `Car` that inherits from `Vehicle` and adds a `brand` attribute. Provide an example of creating a `Car` object.\n"
   ]
  },
  {
   "cell_type": "code",
   "execution_count": null,
   "id": "6da50f7a-a549-418e-8fac-1579edef6cd1",
   "metadata": {},
   "outputs": [],
   "source": [
    "class Vehicle:\n",
    "    def __init__(self, color, speed):\n",
    "        self.color = color\n",
    "        self.speed = speed\n",
    "\n",
    "class Car(Vehicle):\n",
    "    def __init__(self, color, speed, brand):\n",
    "        super().__init__(color, speed)\n",
    "        self.brand = brand\n",
    "\n",
    "# Creating a Car object\n",
    "my_car = Car(\"Red\", 60, \"Toyota\")\n"
   ]
  },
  {
   "cell_type": "markdown",
   "id": "6166f2ee-e0e1-4524-b4c3-d679a5297cf7",
   "metadata": {},
   "source": [
    "### 4. Explain the concept of method overriding in inheritance. Provide a practical example."
   ]
  },
  {
   "cell_type": "code",
   "execution_count": null,
   "id": "2d0f5faa-133d-45c8-a3bc-e62af7fa308c",
   "metadata": {},
   "outputs": [],
   "source": [
    "class Parent:\n",
    "    def my_method(self):\n",
    "        print(\"Parent method\")\n",
    "\n",
    "class Child(Parent):\n",
    "    def my_method(self):  # overriding the method\n",
    "        print(\"Child method\")\n",
    "\n"
   ]
  },
  {
   "cell_type": "markdown",
   "id": "40654f76-7a94-418d-9bae-0d62cf84b8ff",
   "metadata": {},
   "source": [
    "### 5. How can you access the methods and attributes of a parent class from a child class in Python? Give an\n"
   ]
  },
  {
   "cell_type": "code",
   "execution_count": null,
   "id": "faad4f0a-a1cc-4061-8acf-828ba9662fee",
   "metadata": {},
   "outputs": [],
   "source": [
    "class Child(Parent):\n",
    "    def my_method(self):\n",
    "        super().my_method()  # accessing parent method\n",
    "        print(\"Additional functionality in Child method\")\n"
   ]
  },
  {
   "cell_type": "markdown",
   "id": "5762c9ec-6cff-44d2-9ada-55345057a64b",
   "metadata": {},
   "source": [
    "### 6. Discuss the use of the `super()` function in Python inheritance. When and why is it used? Provide an example\n"
   ]
  },
  {
   "cell_type": "code",
   "execution_count": null,
   "id": "87f25358-d178-4de8-884e-059c830d63c8",
   "metadata": {},
   "outputs": [],
   "source": [
    "class Child(Parent):\n",
    "    def my_method(self):\n",
    "        super().my_method()  # calling parent method\n",
    "        # additional functionality in child method\n"
   ]
  },
  {
   "cell_type": "markdown",
   "id": "4907aed2-d5ac-4908-82fc-7faaa348447e",
   "metadata": {},
   "source": [
    "### 7. Create a Python class called `Animal` with a method `speak()`. Then, create child classes `Dog` and `Cat`"
   ]
  },
  {
   "cell_type": "code",
   "execution_count": null,
   "id": "f781dcd1-d573-4dc0-b06f-caca09c05ad2",
   "metadata": {},
   "outputs": [],
   "source": [
    "class Animal:\n",
    "    def speak(self):\n",
    "        pass\n",
    "\n",
    "class Dog(Animal):\n",
    "    def speak(self):\n",
    "        print(\"Dog barks\")\n",
    "\n",
    "class Cat(Animal):\n",
    "    def speak(self):\n",
    "        print(\"Cat meows\")\n",
    "\n",
    "# Using the classes\n",
    "dog = Dog()\n",
    "dog.speak()  # Output: Dog barks\n",
    "\n",
    "cat = Cat()\n",
    "cat.speak()  # Output: Cat meows\n"
   ]
  },
  {
   "cell_type": "markdown",
   "id": "5a93d275-3d46-463a-8416-22a44026a14e",
   "metadata": {},
   "source": [
    "### 8. Explain the role of the `isinstance()` function in Python and how it relates to inheritance."
   ]
  },
  {
   "cell_type": "code",
   "execution_count": null,
   "id": "88e55d17-1751-44a3-a625-930bf237057a",
   "metadata": {},
   "outputs": [],
   "source": [
    "obj = Dog()\n",
    "print(isinstance(obj, Animal))  # Output: True\n"
   ]
  },
  {
   "cell_type": "markdown",
   "id": "afb999e4-a547-4906-a78f-604d3eb26123",
   "metadata": {},
   "source": [
    "### 9. What is the purpose of the `issubclass()` function in Python? Provide an example."
   ]
  },
  {
   "cell_type": "code",
   "execution_count": null,
   "id": "299e35ff-0824-4873-bfa7-0c004465cf33",
   "metadata": {},
   "outputs": [],
   "source": [
    "print(issubclass(Dog, Animal))  # Output: True\n"
   ]
  },
  {
   "cell_type": "markdown",
   "id": "a94d1a2d-9cf5-42a2-b2b6-bd6cdb741640",
   "metadata": {},
   "source": [
    "### 10. Discuss the concept of constructor inheritance in Python. How are constructors inherited in child classes?"
   ]
  },
  {
   "cell_type": "code",
   "execution_count": null,
   "id": "600711e3-6e1c-4c61-bc01-b06cb841c14e",
   "metadata": {},
   "outputs": [],
   "source": [
    "class Parent:\n",
    "    def __init__(self, x):\n",
    "        self.x = x\n",
    "\n",
    "class Child(Parent):\n",
    "    pass\n",
    "\n",
    "child_obj = Child(10)  # Child class inherits the constructor\n"
   ]
  },
  {
   "cell_type": "markdown",
   "id": "6f23f092-bc95-4fe4-8832-df26d7cb2684",
   "metadata": {},
   "source": [
    "### 11. Create a Python class called `Shape` with a method `area()` that calculates the area of a shape. Then, create child classes `Circle` and `Rectangle` that inherit from `Shape` and implement the `area()` method accordingly. Provide an example.\n"
   ]
  },
  {
   "cell_type": "code",
   "execution_count": null,
   "id": "a170f623-dd26-4bef-b905-b167f2b9f4c2",
   "metadata": {},
   "outputs": [],
   "source": [
    "class Shape:\n",
    "    def area(self):\n",
    "        pass\n",
    "\n",
    "class Circle(Shape):\n",
    "    def __init__(self, radius):\n",
    "        self.radius = radius\n",
    "\n",
    "    def area(self):\n",
    "        return 3.14 * self.radius ** 2\n",
    "\n",
    "class Rectangle(Shape):\n",
    "    def __init__(self, length, width):\n",
    "        self.length = length\n",
    "        self.width = width\n",
    "\n",
    "    def area(self):\n",
    "        return self.length * self.width\n",
    "\n",
    "# Using the classes\n",
    "circle = Circle(5)\n",
    "print(circle.area())  # Output: 78.5\n",
    "\n",
    "rectangle = Rectangle(4, 6)\n",
    "print(rectangle.area())  # Output: 24\n"
   ]
  },
  {
   "cell_type": "markdown",
   "id": "07229f88-3e64-4fb6-9201-b21c99a42638",
   "metadata": {},
   "source": [
    "### 12. Explain the use of abstract base classes (ABCs) in Python and how they relate to inheritance. Provide an example using the `abc` module.\n"
   ]
  },
  {
   "cell_type": "code",
   "execution_count": null,
   "id": "a512eaf9-7c81-44f5-abe5-2a0fc3dfd98f",
   "metadata": {},
   "outputs": [],
   "source": [
    "from abc import ABC, abstractmethod\n",
    "\n",
    "class Shape(ABC):\n",
    "    @abstractmethod\n",
    "    def area(self):\n",
    "        pass\n",
    "\n",
    "class Circle(Shape):\n",
    "    def __init__(self, radius):\n",
    "        self.radius = radius\n",
    "\n",
    "    def area(self):\n",
    "        return 3.14 * self.radius ** 2\n"
   ]
  },
  {
   "cell_type": "markdown",
   "id": "61b54313-f8c8-4f65-8499-de2a1c9231d0",
   "metadata": {},
   "source": [
    "### 13. How can you prevent a child class from modifying certain attributes or methods inherited from a parent class in Python?\n"
   ]
  },
  {
   "cell_type": "markdown",
   "id": "73be6c96-e1eb-4791-a677-a5a8a1fa2e7e",
   "metadata": {},
   "source": [
    "#### Make attributes or methods private in the parent class using a single underscore (e.g., _attribute) to indicate that they should not be modified outside the class."
   ]
  },
  {
   "cell_type": "markdown",
   "id": "3dcd57d7-d7f1-49d1-9b46-a99d1c155728",
   "metadata": {},
   "source": [
    "### 14. Create a Python class called `Employee` with attributes `name` and `salary`. Then, create a child class `Manager` that inherits from `Employee` and adds an attribute `department`. Provide an example.\n"
   ]
  },
  {
   "cell_type": "code",
   "execution_count": null,
   "id": "48bc1e81-2554-43eb-9aca-97d7e9e3fc6a",
   "metadata": {},
   "outputs": [],
   "source": [
    "class Employee:\n",
    "    def __init__(self, name, salary):\n",
    "        self.name = name\n",
    "        self.salary = salary\n",
    "\n",
    "class Manager(Employee):\n",
    "    def __init__(self, name, salary, department):\n",
    "        super().__init__(name, salary)\n",
    "        self.department = department\n"
   ]
  },
  {
   "cell_type": "markdown",
   "id": "d3e922a9-07a3-40f8-8297-ec4a0df3a843",
   "metadata": {},
   "source": [
    "### 15. Discuss the concept of method overloading in Python inheritance. How does it differ from method overriding?\n"
   ]
  },
  {
   "cell_type": "markdown",
   "id": "07b36907-f004-445c-9f72-180e7c7e6364",
   "metadata": {},
   "source": [
    "#### Python doesn't support method overloading in the traditional see \n",
    "#### You can achieve similar behavior by using default values for parameters."
   ]
  },
  {
   "cell_type": "markdown",
   "id": "939e6f98-e979-4548-ba7f-5562f511e488",
   "metadata": {},
   "source": [
    "### 16. Explain the purpose of the `__init__()` method in Python inheritance and how it is utilized in child classes."
   ]
  },
  {
   "cell_type": "markdown",
   "id": "b36dab3d-4380-4761-be48-ad46d5e3e351",
   "metadata": {},
   "source": [
    "#### The __init__ method in child classes can be used to initialize additional attributes specific to the child class.\n",
    "#### It should call the __init__ method of the parent class using super()."
   ]
  },
  {
   "cell_type": "markdown",
   "id": "8050cf5b-5e3d-4e51-8e52-e6fac929371b",
   "metadata": {},
   "source": [
    "### 17. Create a Python class called `Bird` with a method `fly()`. Then, create child classes `Eagle` and `Sparrow` that inherit from `Bird` and implement the `fly()` method differently. Provide an example of using these\n",
    "classes."
   ]
  },
  {
   "cell_type": "code",
   "execution_count": null,
   "id": "dba8d6e8-2507-47b8-9023-092262013863",
   "metadata": {},
   "outputs": [],
   "source": [
    "class Bird:\n",
    "    def fly(self):\n",
    "        pass\n",
    "\n",
    "class Eagle(Bird):\n",
    "    def fly(self):\n",
    "        print(\"Eagle soars high\")\n",
    "\n",
    "class Sparrow(Bird):\n",
    "    def fly(self):\n",
    "        print(\"Sparrow flutters\")\n",
    "\n",
    "# Using the classes\n",
    "eagle = Eagle()\n",
    "eagle.fly()  # Output: Eagle soars high\n",
    "\n",
    "sparrow = Sparrow()\n",
    "sparrow.fly()  # Output: Sparrow flutters\n"
   ]
  },
  {
   "cell_type": "markdown",
   "id": "c0aa1074-6a0e-4cf2-acc5-836735535e4a",
   "metadata": {},
   "source": [
    "### 19. Discuss the concept of \"is-a\" and \"has-a\" relationships in inheritance, and provide examples of each."
   ]
  },
  {
   "cell_type": "code",
   "execution_count": null,
   "id": "314e4457-20c7-4f11-a7fc-4d6679e355a7",
   "metadata": {},
   "outputs": [],
   "source": [
    "class University:\n",
    "    pass\n",
    "\n",
    "class Person:\n",
    "    pass\n",
    "\n",
    "class Student(Person, University):\n",
    "    pass\n"
   ]
  },
  {
   "cell_type": "markdown",
   "id": "73450f46-f2ee-4858-a6f3-446a28640d79",
   "metadata": {},
   "source": [
    "### 20. Create a Python class hierarchy for a university system. Start with a base class `Person` and create child classes `Student` and `Professor`, each with their own attributes and methods. Provide an example of using these classes in a university context.\n",
    "\n"
   ]
  },
  {
   "cell_type": "code",
   "execution_count": null,
   "id": "473144b0-b23a-40a8-93cf-f18bb01f967a",
   "metadata": {},
   "outputs": [],
   "source": [
    "class Person:\n",
    "    def __init__(self, name, age):\n",
    "        self.name = name\n",
    "        self.age = age\n",
    "\n",
    "class Student(Person):\n",
    "    def __init__(self, name, age, student_id):\n",
    "        super().__init__(name, age)\n",
    "        self.student_id = student_id\n",
    "\n",
    "class Professor(Person):\n",
    "    def __init__(self, name, age, employee_id):\n",
    "        super().__init__(name, age)\n",
    "        self.employee_id = employee_id\n",
    "\n",
    "# Using the classes\n",
    "student = Student(\"Alice\", 20, \"S12345\")\n",
    "professor = Professor(\"Dr. Smith\", 45, \"P9876\")\n"
   ]
  },
  {
   "cell_type": "markdown",
   "id": "c135d813-4ec7-4843-a24d-66e0ae755855",
   "metadata": {},
   "source": [
    "## Encapsulation:"
   ]
  },
  {
   "cell_type": "markdown",
   "id": "f637bc71-8d81-46bc-b2fc-8409af784a44",
   "metadata": {},
   "source": [
    "### 1. Explain the concept of encapsulation in Python. What is its role in object-oriented programming?"
   ]
  },
  {
   "cell_type": "markdown",
   "id": "3d45e11f-f6be-41d6-9b5c-c529948ae847",
   "metadata": {},
   "source": [
    "#### Encapsulation is one of the fundamental principles of object-oriented programming (OOP) that involves bundling the data (attributes) and the methods (functions) that operate on the data into a single unit known as a class.\n",
    "#### Its role is to hide the internal details of an object and provide a well-defined interface for interacting with the object."
   ]
  },
  {
   "cell_type": "markdown",
   "id": "b2bb0fb0-7717-44d8-bee0-0206724206ca",
   "metadata": {},
   "source": [
    "### 2. Describe the key principles of encapsulation, including access control and data hiding."
   ]
  },
  {
   "cell_type": "markdown",
   "id": "56780517-3073-4b47-a79f-21f77361bedf",
   "metadata": {},
   "source": [
    "#### Key Principles of Encapsulation:\n",
    "\n",
    "#### Access Control: Restricting access to certain attributes and methods.\n",
    "#### Data Hiding: Keeping the internal details of an object hidden from the outside."
   ]
  },
  {
   "cell_type": "markdown",
   "id": "d5ee5311-fc3d-4cf0-a122-b0668d6de71a",
   "metadata": {},
   "source": [
    "### 3. How can you achieve encapsulation in Python classes? Provide an example."
   ]
  },
  {
   "cell_type": "code",
   "execution_count": null,
   "id": "ab6ea9a0-ffc0-44af-8d7b-0e1d736f3c11",
   "metadata": {},
   "outputs": [],
   "source": [
    "class MyClass:\n",
    "    def __init__(self, attribute):\n",
    "        self._protected_attribute = attribute\n",
    "        self.__private_attribute = attribute\n"
   ]
  },
  {
   "cell_type": "markdown",
   "id": "181e67d6-078f-4cb4-ace6-3c593c2d5a52",
   "metadata": {},
   "source": [
    "### 4. Discuss the difference between public, private, and protected access modifiers in Python."
   ]
  },
  {
   "cell_type": "markdown",
   "id": "54c1f484-472b-447c-a827-3fdd95ac16ca",
   "metadata": {},
   "source": [
    "#### Public (attr): Accessible from anywhere.\n",
    "#### Private (__attr): Accessible only within the class.\n",
    "#### Protected (_attr): Accessible within the class and its subclasses"
   ]
  },
  {
   "cell_type": "markdown",
   "id": "6376e2da-fba9-4ea8-869a-39ca4b26eb5c",
   "metadata": {},
   "source": [
    "#### 5. Create a Python class called `Person` with a private attribute `__name`. Provide methods to get and set the name attribute.\n"
   ]
  },
  {
   "cell_type": "code",
   "execution_count": null,
   "id": "4982b148-885e-4257-9582-24169d1905c4",
   "metadata": {},
   "outputs": [],
   "source": [
    "class Person:\n",
    "    def __init__(self, name):\n",
    "        self.__name = name\n",
    "\n",
    "    def get_name(self):\n",
    "        return self.__name\n",
    "\n",
    "    def set_name(self, new_name):\n",
    "        self.__name = new_name\n"
   ]
  },
  {
   "cell_type": "markdown",
   "id": "63d1f73a-bce4-47cf-a997-c636f09dec84",
   "metadata": {},
   "source": [
    "### 6. Explain the purpose of getter and setter methods in encapsulation. Provide examples."
   ]
  },
  {
   "cell_type": "code",
   "execution_count": null,
   "id": "ebbe3169-1af9-4888-bff9-6beded8bd4bb",
   "metadata": {},
   "outputs": [],
   "source": [
    "person = Person(\"John\")\n",
    "print(person.get_name())  # Output: John\n",
    "person.set_name(\"Jane\")\n"
   ]
  },
  {
   "cell_type": "markdown",
   "id": "f04b34d6-45d4-4c47-877f-208378e3e003",
   "metadata": {},
   "source": [
    "### 7. What is name mangling in Python, and how does it affect encapsulation?"
   ]
  },
  {
   "cell_type": "code",
   "execution_count": null,
   "id": "a2d258c4-1961-4d3c-a471-9ae78301f8ce",
   "metadata": {},
   "outputs": [],
   "source": [
    "class MyClass:\n",
    "    def __init__(self):\n",
    "        self.__private_attribute = 10\n",
    "\n",
    "obj = MyClass()\n",
    "print(obj._MyClass__private_attribute)  # Name mangling to access private attribute\n"
   ]
  },
  {
   "cell_type": "markdown",
   "id": "114260e2-a437-4e11-83c2-f65e01e06f1e",
   "metadata": {},
   "source": [
    "#### 8. Create a Python class called `BankAccount` with private attributes for the account balance (`__balance`) and account number (`__account_number`). Provide methods for depositing and withdrawing money."
   ]
  },
  {
   "cell_type": "code",
   "execution_count": null,
   "id": "02ae1239-ee86-40f6-ba2f-e77e469c7818",
   "metadata": {},
   "outputs": [],
   "source": [
    "class BankAccount:\n",
    "    def __init__(self):\n",
    "        self.__balance = 0\n",
    "        self.__account_number = \"123456789\"\n",
    "\n",
    "    def deposit(self, amount):\n",
    "        self.__balance += amount\n",
    "\n",
    "    def withdraw(self, amount):\n",
    "        if amount <= self.__balance:\n",
    "            self.__balance -= amount\n",
    "        else:\n",
    "            print(\"Insufficient funds\")\n"
   ]
  },
  {
   "cell_type": "markdown",
   "id": "9f5cf916-dc93-41ef-a84b-73cdc5b1c568",
   "metadata": {},
   "source": [
    "### 9. Discuss the advantages of encapsulation in terms of code maintainability and security."
   ]
  },
  {
   "cell_type": "markdown",
   "id": "b1029a2d-1304-473e-bc36-e01112bbdac5",
   "metadata": {
    "tags": []
   },
   "source": [
    "#### Code Maintainability: Easier to modify internal implementations without affecting external code.\n",
    "#### Security: Hiding sensitive information and preventing unauthorized access."
   ]
  },
  {
   "cell_type": "markdown",
   "id": "d9854929-7ff7-4103-abc6-8a3dfc7f5bf6",
   "metadata": {},
   "source": [
    "### 10. How can you access private attributes in Python? Provide an example demonstrating the use of name mangling\n"
   ]
  },
  {
   "cell_type": "code",
   "execution_count": null,
   "id": "54f71058-c80d-417e-874b-1efda706357c",
   "metadata": {},
   "outputs": [],
   "source": [
    "class MyClass:\n",
    "    def __init__(self):\n",
    "        self.__private_attribute = 10\n",
    "\n",
    "obj = MyClass()\n",
    "print(obj._MyClass__private_attribute)  # Output: 10\n"
   ]
  },
  {
   "cell_type": "markdown",
   "id": "daf22621-2e9e-408c-bc03-411c90f24f8d",
   "metadata": {},
   "source": [
    "### 11. Create a Python class hierarchy for a school system, including classes for students, teachers, and courses, and implement encapsulation principles to protect sensitive information.\n"
   ]
  },
  {
   "cell_type": "code",
   "execution_count": null,
   "id": "9d209584-bdb7-45bf-b3cd-d031ca411b4a",
   "metadata": {},
   "outputs": [],
   "source": [
    "class Person:\n",
    "    def __init__(self, name, age):\n",
    "        self.__name = name\n",
    "        self.__age = age\n",
    "\n",
    "class Student(Person):\n",
    "    def __init__(self, name, age, student_id):\n",
    "        super().__init__(name, age)\n",
    "        self.__student_id = student_id\n",
    "\n",
    "class Teacher(Person):\n",
    "    def __init__(self, name, age, employee_id):\n",
    "        super().__init__(name, age)\n",
    "        self.__employee_id = employee_id\n"
   ]
  },
  {
   "cell_type": "markdown",
   "id": "e49e3ac2-0078-4220-97d7-94d73b25d56e",
   "metadata": {},
   "source": [
    "### 12. Explain the concept of property decorators in Python and how they relate to encapsulation."
   ]
  },
  {
   "cell_type": "code",
   "execution_count": null,
   "id": "2e7d0eac-f6b5-4b8d-b8ed-3a2afe3522e8",
   "metadata": {},
   "outputs": [],
   "source": [
    "class MyClass:\n",
    "    def __init__(self):\n",
    "        self._x = 0\n",
    "\n",
    "    @property\n",
    "    def x(self):\n",
    "        return self._x\n",
    "\n",
    "    @x.setter\n",
    "    def x(self, value):\n",
    "        if value > 0:\n",
    "            self._x = value\n"
   ]
  },
  {
   "cell_type": "markdown",
   "id": "2be623ed-6929-4940-8387-fc922b85759f",
   "metadata": {},
   "source": [
    "### 13. What is data hiding, and why is it important in encapsulation? Provide examples."
   ]
  },
  {
   "cell_type": "code",
   "execution_count": null,
   "id": "099f4190-8a1d-4dea-ad15-ffedc8921cca",
   "metadata": {},
   "outputs": [],
   "source": [
    "class Employee:\n",
    "    def __init__(self, salary, employee_id):\n",
    "        self.__salary = salary\n",
    "        self.__employee_id = employee_id\n",
    "\n",
    "    def calculate_yearly_bonus(self):\n",
    "        return self.__salary * 0.1  # Example calculation\n"
   ]
  },
  {
   "cell_type": "markdown",
   "id": "92ded601-5cee-4f8e-92cc-75a6528e81dd",
   "metadata": {},
   "source": [
    "### 14. Create a Python class called `Employee` with private attributes for salary (`__salary`) and employee ID (`__employee_id`). Provide a method to calculate yearly bonuses."
   ]
  },
  {
   "cell_type": "code",
   "execution_count": null,
   "id": "f2f2f795-ef02-4880-b9ba-88399bd223c2",
   "metadata": {},
   "outputs": [],
   "source": [
    "class Employee:\n",
    "    def __init__(self, salary, employee_id):\n",
    "        self.__salary = salary\n",
    "        self.__employee_id = employee_id\n",
    "\n",
    "    def calculate_yearly_bonus(self):\n",
    "        return self.__salary * 0.1  # Example calculation\n"
   ]
  },
  {
   "cell_type": "markdown",
   "id": "731ed316-3a9f-4772-9b9b-292cde4cf18c",
   "metadata": {},
   "source": [
    "### 15. Discuss the use of accessors and mutators in encapsulation. How do they help maintain control over attribute access?\n"
   ]
  },
  {
   "cell_type": "markdown",
   "id": "4f69d551-6da8-4a1d-b398-9359be3e33b0",
   "metadata": {},
   "source": [
    "#### Accessors (get_...): Getter methods, used to retrieve the values of private attributes.\n",
    "#### Mutators (set_...): Setter methods, used to modify the values of private attributes."
   ]
  },
  {
   "cell_type": "markdown",
   "id": "ed0b68ca-74bf-4e7c-9b43-7b15b8f880a2",
   "metadata": {},
   "source": [
    "### 16. What are the potential drawbacks or disadvantages of using encapsulation in Python?"
   ]
  },
  {
   "cell_type": "markdown",
   "id": "a3ca8b86-2e90-4340-a2b1-ed1062b3a190",
   "metadata": {},
   "source": [
    "#### Overuse of getters and setters can make the code verbose.\n",
    "#### Increased complexity for simple classes.\n",
    "#### Developers may misuse access modifiers."
   ]
  },
  {
   "cell_type": "markdown",
   "id": "e547def0-cbdd-444c-837b-ca43896f10aa",
   "metadata": {},
   "source": [
    "### 17. Create a Python class for a library system that encapsulates book information, including titles, authors, and availability status.\n"
   ]
  },
  {
   "cell_type": "code",
   "execution_count": null,
   "id": "b51eb7c5-ec57-42c9-8199-cd861ce0a988",
   "metadata": {},
   "outputs": [],
   "source": [
    "class Book:\n",
    "    def __init__(self, title, author, availability):\n",
    "        self.__title = title\n",
    "        self.__author = author\n",
    "        self.__availability = availability\n"
   ]
  },
  {
   "cell_type": "markdown",
   "id": "eb35c789-1814-400a-b1bf-27f8e26c4d0a",
   "metadata": {},
   "source": [
    "### 18. Explain how encapsulation enhances code reusability and modularity in Python programs."
   ]
  },
  {
   "cell_type": "markdown",
   "id": "275e8d6b-6afd-4ad6-8dd1-f01fc4feea5c",
   "metadata": {},
   "source": [
    "#### Encapsulation enhances code reusability by providing a clear interface for interacting with objects.\n",
    "#### Changes to the internal implementation of a class don't affect external code using that class."
   ]
  },
  {
   "cell_type": "markdown",
   "id": "781381c6-4412-412c-9693-50eb846ac44c",
   "metadata": {},
   "source": [
    "## Polymorphism:"
   ]
  },
  {
   "cell_type": "markdown",
   "id": "e432f21b-e444-4a2c-9570-e7bb33c85f8d",
   "metadata": {},
   "source": [
    "#### 1. What is polymorphism in Python? Explain how it is related to object-oriented programming."
   ]
  },
  {
   "cell_type": "markdown",
   "id": "3fd768bd-8c20-416d-a5de-c749c23ebde2",
   "metadata": {},
   "source": [
    "#### Polymorphism is a concept in object-oriented programming (OOP) where objects of different types can be treated as objects of a common base type. It allows the same interface to be used for different types of objects."
   ]
  },
  {
   "cell_type": "markdown",
   "id": "d8b88dc8-b0e0-49d2-8ff0-1cb783e934f1",
   "metadata": {},
   "source": [
    "### 2. Describe the difference between compile-time polymorphism and runtime polymorphism in Python."
   ]
  },
  {
   "cell_type": "markdown",
   "id": "3f26137c-f334-4819-880c-84056a5f55b2",
   "metadata": {},
   "source": [
    "#### Compile-time Polymorphism: Also known as static polymorphism, it is resolved during compile-time. Examples include method overloading."
   ]
  },
  {
   "cell_type": "markdown",
   "id": "5cfefbf3-2ef0-4ca7-a4eb-413d6a1475cf",
   "metadata": {},
   "source": [
    "### 3. Create a Python class hierarchy for shapes (e.g., circle, square, triangle) and demonstrate polymorphism\n",
    "through a common method, such as `calculate_area()`."
   ]
  },
  {
   "cell_type": "code",
   "execution_count": 41,
   "id": "51dca389-cc33-49d1-a832-565d956b270d",
   "metadata": {},
   "outputs": [],
   "source": [
    "class Shape:\n",
    "    def calculate_area(self):\n",
    "        pass\n",
    "\n",
    "class Circle(Shape):\n",
    "    def calculate_area(self, radius):\n",
    "        return 3.14 * radius ** 2\n",
    "\n",
    "class Square(Shape):\n",
    "    def calculate_area(self, side):\n",
    "        return side ** 2\n",
    "\n",
    "class Triangle(Shape):\n",
    "    def calculate_area(self, base, height):\n",
    "        return 0.5 * base * height\n"
   ]
  },
  {
   "cell_type": "markdown",
   "id": "b602e841-7c94-4e14-ad03-683c41744644",
   "metadata": {},
   "source": [
    "### 4. Explain the concept of method overriding in polymorphism. Provide an example."
   ]
  },
  {
   "cell_type": "code",
   "execution_count": 42,
   "id": "d82b1217-e322-4193-b26b-a90fc2616f96",
   "metadata": {},
   "outputs": [],
   "source": [
    "class Animal:\n",
    "    def speak(self):\n",
    "        print(\"Animal speaks\")\n",
    "\n",
    "class Dog(Animal):\n",
    "    def speak(self):  # overriding the method\n",
    "        print(\"Dog barks\")\n"
   ]
  },
  {
   "cell_type": "markdown",
   "id": "6cc2c879-8e16-46bc-b974-1bc5eb8f1598",
   "metadata": {},
   "source": [
    "### 5. How is polymorphism different from method overloading in Python? Provide examples for both."
   ]
  },
  {
   "cell_type": "code",
   "execution_count": 43,
   "id": "8986eaf5-8dea-4fce-b210-f767eac7d304",
   "metadata": {},
   "outputs": [],
   "source": [
    "class MyClass:\n",
    "    def my_method(self, param1):\n",
    "        pass\n",
    "\n",
    "    def my_method(self, param1, param2):\n",
    "        pass\n"
   ]
  },
  {
   "cell_type": "markdown",
   "id": "46ba4097-5bbd-4c78-98ed-0f3bb44578fd",
   "metadata": {},
   "source": [
    "### 6. Create a Python class called `Animal` with a method `speak()`. Then, create child classes like `Dog`, `Cat`, and `Bird`, each with their own `speak()` method. Demonstrate polymorphism by calling the `speak()` method\n",
    "on objects of different subclasses."
   ]
  },
  {
   "cell_type": "code",
   "execution_count": 44,
   "id": "28ec9b56-433b-4d21-ad7a-68ff2f3c042d",
   "metadata": {},
   "outputs": [],
   "source": [
    "class Animal:\n",
    "    def speak(self):\n",
    "        pass\n",
    "\n",
    "class Dog(Animal):\n",
    "    def speak(self):\n",
    "        print(\"Dog barks\")\n",
    "\n",
    "class Cat(Animal):\n",
    "    def speak(self):\n",
    "        print(\"Cat meows\")\n",
    "\n",
    "class Bird(Animal):\n",
    "    def speak(self):\n",
    "        print(\"Bird chirps\")\n"
   ]
  },
  {
   "cell_type": "markdown",
   "id": "6c48efda-6226-4c71-b4bc-096ff5dc87ba",
   "metadata": {},
   "source": [
    "### 7. Discuss the use of abstract methods and classes in achieving polymorphism in Python. Provide an example\n",
    "using the `abc` module."
   ]
  },
  {
   "cell_type": "code",
   "execution_count": 45,
   "id": "f9c56589-0884-4b61-ad47-72e16843a987",
   "metadata": {},
   "outputs": [],
   "source": [
    "from abc import ABC, abstractmethod\n",
    "\n",
    "class Shape(ABC):\n",
    "    @abstractmethod\n",
    "    def calculate_area(self):\n",
    "        pass\n"
   ]
  },
  {
   "cell_type": "markdown",
   "id": "b4e6dd60-c075-4d00-9a8c-d16ca2632aeb",
   "metadata": {},
   "source": [
    "#### 8. Create a Python class hierarchy for a vehicle system (e.g., car, bicycle, boat) and implement a"
   ]
  },
  {
   "cell_type": "code",
   "execution_count": 46,
   "id": "780cf156-cbda-4350-9014-407bb2cc9313",
   "metadata": {},
   "outputs": [],
   "source": [
    "class Vehicle:\n",
    "    def start(self):\n",
    "        pass\n",
    "\n",
    "class Car(Vehicle):\n",
    "    def start(self):\n",
    "        print(\"Car started\")\n",
    "\n",
    "class Bicycle(Vehicle):\n",
    "    def start(self):\n",
    "        print(\"Bicycle started\")\n",
    "\n",
    "class Boat(Vehicle):\n",
    "    def start(self):\n",
    "        print(\"Boat started\")\n"
   ]
  },
  {
   "cell_type": "markdown",
   "id": "14e3191f-e783-43e5-bf7d-1477d7306066",
   "metadata": {},
   "source": [
    "### 9. Explain the significance of the `isinstance()` and `issubclass()` functions in Python polymorphism."
   ]
  },
  {
   "cell_type": "code",
   "execution_count": 47,
   "id": "d3008f1d-a242-44e6-8763-c9eed345d967",
   "metadata": {},
   "outputs": [
    {
     "name": "stdout",
     "output_type": "stream",
     "text": [
      "True\n",
      "True\n"
     ]
    }
   ],
   "source": [
    "obj = Dog()\n",
    "print(isinstance(obj, Animal))    # Output: True\n",
    "print(issubclass(Dog, Animal))     # Output: True\n"
   ]
  },
  {
   "cell_type": "markdown",
   "id": "9fdbe247-d180-4047-8de8-ce0aa1a8c281",
   "metadata": {},
   "source": [
    "### 10. What is the role of the `@abstractmethod` decorator in achieving polymorphism in Python? Provide an\n",
    "example."
   ]
  },
  {
   "cell_type": "code",
   "execution_count": 48,
   "id": "4d719a9f-054c-4414-92f2-e1c1dd9a08b3",
   "metadata": {},
   "outputs": [],
   "source": [
    "from abc import ABC, abstractmethod\n",
    "\n",
    "class Shape(ABC):\n",
    "    @abstractmethod\n",
    "    def area(self):\n",
    "        pass\n"
   ]
  },
  {
   "cell_type": "markdown",
   "id": "64c30d87-2250-45dc-b499-fac04dd8598a",
   "metadata": {},
   "source": [
    "### 11. Create a Python class called `Shape` with a polymorphic method `area()` that calculates the area of different shapes (e.g., circle, rectangle, triangle)."
   ]
  },
  {
   "cell_type": "code",
   "execution_count": 49,
   "id": "05901e2e-fd34-46ff-91ad-bffdfccab831",
   "metadata": {},
   "outputs": [],
   "source": [
    "class Shape:\n",
    "    def area(self):\n",
    "        pass\n",
    "\n",
    "class Circle(Shape):\n",
    "    def area(self, radius):\n",
    "        return 3.14 * radius ** 2\n",
    "\n",
    "class Rectangle(Shape):\n",
    "    def area(self, length, width):\n",
    "        return length * width\n",
    "\n",
    "class Triangle(Shape):\n",
    "    def area(self, base, height):\n",
    "        return 0.5 * base * height\n"
   ]
  },
  {
   "cell_type": "markdown",
   "id": "2adb7745-83b8-4f48-b5d0-6160843e9168",
   "metadata": {},
   "source": [
    "### 12. Discuss the benefits of polymorphism in terms of code reusability and flexibility in Python programs."
   ]
  },
  {
   "cell_type": "markdown",
   "id": "de95ec51-a35c-4af4-a1ac-88d0b8c5dffe",
   "metadata": {},
   "source": [
    "#### Code Reusability: Common interfaces allow the same code to be reused for different objects.\n",
    "#### Flexibility: Code can be more adaptable to changes and extensions."
   ]
  },
  {
   "cell_type": "markdown",
   "id": "2ed83d35-4f38-4e82-ad99-00ee329b990a",
   "metadata": {},
   "source": [
    "### 13. Explain the use of the `super()` function in Python polymorphism. How does it help call methods of parent\n",
    "classes?"
   ]
  },
  {
   "cell_type": "code",
   "execution_count": 50,
   "id": "fa7cfdba-49a8-46d6-a8fe-b23d3452369b",
   "metadata": {},
   "outputs": [],
   "source": [
    "class Parent:\n",
    "    def method(self):\n",
    "        print(\"Parent method\")\n",
    "\n",
    "class Child(Parent):\n",
    "    def method(self):\n",
    "        super().method()  # calling parent method\n",
    "        print(\"Child method\")\n"
   ]
  },
  {
   "cell_type": "markdown",
   "id": "516f2176-490a-46a8-bc8b-896922329834",
   "metadata": {},
   "source": [
    "### 14. Create a Python class hierarchy for a banking system with various account types (e.g., savings, checking, credit card) and demonstrate polymorphism by implementing a common `withdraw()` method."
   ]
  },
  {
   "cell_type": "code",
   "execution_count": 51,
   "id": "159a60c8-930e-4c01-a8e7-083cc46b233a",
   "metadata": {},
   "outputs": [],
   "source": [
    "class Account:\n",
    "    def withdraw(self, amount):\n",
    "        pass\n",
    "\n",
    "class SavingsAccount(Account):\n",
    "    def withdraw(self, amount):\n",
    "        print(\"Withdraw from Savings Account\")\n",
    "\n",
    "class CheckingAccount(Account):\n",
    "    def withdraw(self, amount):\n",
    "        print(\"Withdraw from Checking Account\")\n",
    "\n",
    "class CreditCardAccount(Account):\n",
    "    def withdraw(self, amount):\n",
    "        print(\"Withdraw from Credit Card Account\")\n"
   ]
  },
  {
   "cell_type": "markdown",
   "id": "567ae888-cba5-4952-bb84-a91de916b418",
   "metadata": {},
   "source": [
    "### 15. Describe the concept of operator overloading in Python and how it relates to polymorphism. Provide\n",
    "examples using operators like `+` and `*`."
   ]
  },
  {
   "cell_type": "code",
   "execution_count": 52,
   "id": "973b60ad-c30c-45b4-be31-f90493ada7b1",
   "metadata": {},
   "outputs": [],
   "source": [
    "class Vector:\n",
    "    def __init__(self, x, y):\n",
    "        self.x = x\n",
    "        self.y = y\n",
    "\n",
    "    def __add__(self, other):\n",
    "        return Vector(self.x + other.x, self.y + other.y)\n",
    "\n",
    "v1 = Vector(1, 2)\n",
    "v2 = Vector(3, 4)\n",
    "result = v1 + v2  # Output: Vector(4, 6)\n"
   ]
  },
  {
   "cell_type": "markdown",
   "id": "130750bf-3c06-4af2-a3ae-04f286c32dc2",
   "metadata": {},
   "source": [
    "### 16. What is dynamic polymorphism, and how is it achieved in Python?"
   ]
  },
  {
   "cell_type": "markdown",
   "id": "bb27bc73-5418-4761-9518-10230326e581",
   "metadata": {},
   "source": [
    "#### Dynamic polymorphism allows objects to be treated as objects of their actual types during runtime.\n",
    "#### Achieved through method overriding."
   ]
  },
  {
   "cell_type": "markdown",
   "id": "53b1bc88-be5c-41f6-987a-dc8de879552e",
   "metadata": {},
   "source": [
    "### 17. Create a Python class hierarchy for employees in a company (e.g., manager, developer, designer) and implement polymorphism through a common `calculate_salary()` method."
   ]
  },
  {
   "cell_type": "code",
   "execution_count": 53,
   "id": "1240a433-b6ad-4450-83de-7e548f3ee7c0",
   "metadata": {},
   "outputs": [],
   "source": [
    "class Employee:\n",
    "    def calculate_salary(self):\n",
    "        pass\n",
    "\n",
    "class Manager(Employee):\n",
    "    def calculate_salary(self):\n",
    "        print(\"Calculating salary for a Manager\")\n",
    "\n",
    "class Developer(Employee):\n",
    "    def calculate_salary(self):\n",
    "        print(\"Calculating salary for a Developer\")\n",
    "\n",
    "class Designer(Employee):\n",
    "    def calculate_salary(self):\n",
    "        print(\"Calculating salary for a Designer\")\n"
   ]
  },
  {
   "cell_type": "markdown",
   "id": "cc9eabd7-606d-4d0b-93cc-ae93b6f54fcb",
   "metadata": {},
   "source": [
    "### 18. Discuss the concept of function pointers and how they can be used to achieve polymorphism in Python."
   ]
  },
  {
   "cell_type": "markdown",
   "id": "978ee962-62ad-4021-ae7a-95d380a19b33",
   "metadata": {},
   "source": [
    "#### In Python, function pointers are not explicitly used as in some other languages. Instead, functions are first-class citizens, allowing them to be passed as arguments."
   ]
  },
  {
   "cell_type": "markdown",
   "id": "975ed03d-826b-41a1-b82d-fd3f978b007f",
   "metadata": {},
   "source": [
    "### 19. Explain the role of interfaces and abstract classes in polymorphism, drawing comparisons between them."
   ]
  },
  {
   "cell_type": "markdown",
   "id": "4fed4e2f-5d38-4dfa-baef-8f19c8876d65",
   "metadata": {},
   "source": [
    "#### Interfaces are not explicitly defined in Python. Instead, abstract classes with abstract methods can serve a similar purpose."
   ]
  },
  {
   "cell_type": "markdown",
   "id": "9b63232a-d928-4eb7-84c7-af5d00dfac0c",
   "metadata": {},
   "source": [
    "### 20. Create a Python class for a zoo simulation, demonstrating polymorphism with different animal types (e.g., mammals, birds, reptiles) and their behavior (e.g., eating, sleeping, making sounds)."
   ]
  },
  {
   "cell_type": "code",
   "execution_count": 55,
   "id": "4f8f529f-a7d8-4000-87e7-00f2adc1d28e",
   "metadata": {},
   "outputs": [
    {
     "name": "stdout",
     "output_type": "stream",
     "text": [
      "Mammal behavior: Eating, sleeping, and making sounds\n",
      "Bird behavior: Eating, sleeping, and chirping\n",
      "Reptile behavior: Eating, sleeping, and hissing\n"
     ]
    }
   ],
   "source": [
    "    class Mammal(Animal):\n",
    "        def behave(self):\n",
    "            print(\"Mammal behavior: Eating, sleeping, and making sounds\")\n",
    "\n",
    "    class Bird(Animal):\n",
    "        def behave(self):\n",
    "            print(\"Bird behavior: Eating, sleeping, and chirping\")\n",
    "\n",
    "    class Reptile(Animal):\n",
    "        def behave(self):\n",
    "            print(\"Reptile behavior: Eating, sleeping, and hissing\")\n",
    "\n",
    "    # Using the classes\n",
    "    animals = [Mammal(), Bird(), Reptile()]\n",
    "\n",
    "    for animal in animals:\n",
    "        animal.behave()\n"
   ]
  },
  {
   "cell_type": "markdown",
   "id": "1fdfe8e4-a1e0-4a11-b429-4fdd76f49140",
   "metadata": {},
   "source": [
    "## Abstraction:"
   ]
  },
  {
   "cell_type": "markdown",
   "id": "9f3fb120-828c-4870-865e-e3ff8ad049ad",
   "metadata": {},
   "source": [
    "### 1. What is abstraction in Python, and how does it relate to object-oriented programming?"
   ]
  },
  {
   "cell_type": "markdown",
   "id": "4cd02f81-09af-4a18-bb5d-3c555f4dd0aa",
   "metadata": {},
   "source": [
    "#### Abstraction is a fundamental concept in object-oriented programming (OOP) that involves simplifying complex systems by modeling classes based on the essential properties and behaviors relevant to the problem domain."
   ]
  },
  {
   "cell_type": "markdown",
   "id": "ef33a1d1-a3be-422e-a838-f0fc2ffc5957",
   "metadata": {},
   "source": [
    "### 2. Describe the benefits of abstraction in terms of code organization and complexity reduction."
   ]
  },
  {
   "cell_type": "markdown",
   "id": "3c0c5a34-7f3f-4d46-abb6-3d6659e6aa1e",
   "metadata": {},
   "source": [
    "#### Code Organization: Abstraction allows the modeling of real-world entities, making code more organized and easier to understand.\n",
    "#### Complexity Reduction: It simplifies the complexities of the underlying "
   ]
  },
  {
   "cell_type": "markdown",
   "id": "0dddba42-c10e-44d9-8121-97573cd8eb53",
   "metadata": {},
   "source": [
    "### 3. Create a Python class called `Shape` with an abstract method `calculate_area()`. Then, create child classes (e.g., `Circle`, `Rectangle`) that implement the `calculate_area()` method. Provide an example of\n",
    "using these classes."
   ]
  },
  {
   "cell_type": "code",
   "execution_count": 56,
   "id": "c507e8f7-f68f-4f60-a6a7-2a58eee2b632",
   "metadata": {},
   "outputs": [
    {
     "name": "stdout",
     "output_type": "stream",
     "text": [
      "78.5\n",
      "24\n"
     ]
    }
   ],
   "source": [
    "from abc import ABC, abstractmethod\n",
    "\n",
    "class Shape(ABC):\n",
    "    @abstractmethod\n",
    "    def calculate_area(self):\n",
    "        pass\n",
    "\n",
    "class Circle(Shape):\n",
    "    def calculate_area(self, radius):\n",
    "        return 3.14 * radius ** 2\n",
    "\n",
    "class Rectangle(Shape):\n",
    "    def calculate_area(self, length, width):\n",
    "        return length * width\n",
    "\n",
    "# Using the classes\n",
    "circle = Circle()\n",
    "rectangle = Rectangle()\n",
    "print(circle.calculate_area(5))  # Output: Area of circle\n",
    "print(rectangle.calculate_area(4, 6))  # Output: Area of rectangle\n"
   ]
  },
  {
   "cell_type": "markdown",
   "id": "29b772f3-1b1c-4f0d-a9fe-23166106cf27",
   "metadata": {},
   "source": [
    "### 4. Explain the concept of abstract classes in Python and how they are defined using the `abc` module. Provide\n",
    "an example."
   ]
  },
  {
   "cell_type": "code",
   "execution_count": 57,
   "id": "979b5424-c037-48b0-ad12-fdf8924ce9b5",
   "metadata": {},
   "outputs": [],
   "source": [
    "from abc import ABC, abstractmethod\n",
    "\n",
    "class MyAbstractClass(ABC):\n",
    "    @abstractmethod\n",
    "    def my_abstract_method(self):\n",
    "        pass\n"
   ]
  },
  {
   "cell_type": "markdown",
   "id": "608ececd-d79c-4827-aadc-7dd8f7f2a85d",
   "metadata": {},
   "source": [
    "### 5. How do abstract classes differ from regular classes in Python? Discuss their use cases."
   ]
  },
  {
   "cell_type": "markdown",
   "id": "f19383a4-5315-4a69-8a49-69346d28c81c",
   "metadata": {},
   "source": [
    "#### Abstract classes cannot be instantiated directly; they serve as blueprints for other classes.\n",
    "#### Regular classes can be instantiated directly.\n",
    "#### Use abstract classes when you want to enforce a common interface for a group of related classes."
   ]
  },
  {
   "cell_type": "markdown",
   "id": "163a60d6-b2ef-4652-a029-ca5a679feef4",
   "metadata": {},
   "source": [
    "### 6. Create a Python class for a bank account and demonstrate abstraction by hiding the account balance and providing methods to deposit and withdraw funds.\n"
   ]
  },
  {
   "cell_type": "code",
   "execution_count": 58,
   "id": "103ef555-d21a-4513-89c0-6d5439a3d1e0",
   "metadata": {},
   "outputs": [],
   "source": [
    "from abc import ABC, abstractmethod\n",
    "\n",
    "class BankAccount(ABC):\n",
    "    balance = 0\n",
    "\n",
    "    @abstractmethod\n",
    "    def deposit(self, amount):\n",
    "        pass\n",
    "\n",
    "    @abstractmethod\n",
    "    def withdraw(self, amount):\n",
    "        pass\n",
    "\n",
    "class ConcreteAccount(BankAccount):\n",
    "    def deposit(self, amount):\n",
    "        self.balance += amount\n",
    "\n",
    "    def withdraw(self, amount):\n",
    "        if amount <= self.balance:\n",
    "            self.balance -= amount\n",
    "        else:\n",
    "            print(\"Insufficient funds\")\n"
   ]
  },
  {
   "cell_type": "markdown",
   "id": "c78a5a88-493c-40e2-888a-866a8c3a5063",
   "metadata": {},
   "source": [
    "### 7. Discuss the concept of interface classes in Python and their role in achieving abstraction."
   ]
  },
  {
   "cell_type": "code",
   "execution_count": 59,
   "id": "27f33d7a-04b6-461a-9d16-1f08af88bc8f",
   "metadata": {},
   "outputs": [],
   "source": [
    "from abc import ABC, abstractmethod\n",
    "\n",
    "class Interface(ABC):\n",
    "    @abstractmethod\n",
    "    def method1(self):\n",
    "        pass\n",
    "\n",
    "    @abstractmethod\n",
    "    def method2(self):\n",
    "        pass\n"
   ]
  },
  {
   "cell_type": "markdown",
   "id": "4bdc3c40-15cd-4d04-850d-0368d00f1ab0",
   "metadata": {},
   "source": [
    "### 8. Create a Python class hierarchy for animals and implement abstraction by defining common methods (e.g., `eat()`, `sleep()`) in an abstract base class."
   ]
  },
  {
   "cell_type": "code",
   "execution_count": 60,
   "id": "8058b004-7ed3-474b-a481-2c572ee42f99",
   "metadata": {},
   "outputs": [],
   "source": [
    "class Animal(ABC):\n",
    "    @abstractmethod\n",
    "    def eat(self):\n",
    "        pass\n",
    "\n",
    "    @abstractmethod\n",
    "    def sleep(self):\n",
    "        pass\n",
    "\n",
    "class Lion(Animal):\n",
    "    def eat(self):\n",
    "        print(\"Lion is eating\")\n",
    "\n",
    "    def sleep(self):\n",
    "        print(\"Lion is sleeping\")\n",
    "\n",
    "class Eagle(Animal):\n",
    "    def eat(self):\n",
    "        print(\"Eagle is eating\")\n",
    "\n",
    "    def sleep(self):\n",
    "        print(\"Eagle is sleeping\")\n"
   ]
  },
  {
   "cell_type": "markdown",
   "id": "00b22538-22db-4667-823c-05f463c9a195",
   "metadata": {},
   "source": [
    "### 9. Explain the significance of encapsulation in achieving abstraction. Provide examples."
   ]
  },
  {
   "cell_type": "code",
   "execution_count": 61,
   "id": "6a4355f0-4feb-43ab-ad21-984ac25f0d31",
   "metadata": {},
   "outputs": [],
   "source": [
    "class Employee:\n",
    "    def __init__(self, name, salary):\n",
    "        self.__name = name\n",
    "        self.__salary = salary\n",
    "\n",
    "    def get_salary(self):\n",
    "        return self.__salary\n"
   ]
  },
  {
   "cell_type": "markdown",
   "id": "c1543cf0-b633-40be-8320-056806fd7eb1",
   "metadata": {},
   "source": [
    "### 10. What is the purpose of abstract methods, and how do they enforce abstraction in Python classes?`"
   ]
  },
  {
   "cell_type": "code",
   "execution_count": 62,
   "id": "49c204c5-7147-4b3e-beeb-87129555a29b",
   "metadata": {},
   "outputs": [],
   "source": [
    "from abc import ABC, abstractmethod\n",
    "\n",
    "class MyAbstractClass(ABC):\n",
    "    @abstractmethod\n",
    "    def my_abstract_method(self):\n",
    "        pass\n"
   ]
  },
  {
   "cell_type": "markdown",
   "id": "e885b4d8-41e3-4c0a-b595-57fb49330837",
   "metadata": {},
   "source": [
    "### 11. Create a Python class for a vehicle system and demonstrate abstraction by defining common methods"
   ]
  },
  {
   "cell_type": "code",
   "execution_count": 63,
   "id": "b7f5fc30-fd10-4c08-bfc0-3bb995eb427f",
   "metadata": {},
   "outputs": [],
   "source": [
    "class Vehicle(ABC):\n",
    "    @abstractmethod\n",
    "    def start(self):\n",
    "        pass\n",
    "\n",
    "    @abstractmethod\n",
    "    def stop(self):\n",
    "        pass\n",
    "\n",
    "class Car(Vehicle):\n",
    "    def start(self):\n",
    "        print(\"Car started\")\n",
    "\n",
    "    def stop(self):\n",
    "        print(\"Car stopped\")\n",
    "\n",
    "class Bicycle(Vehicle):\n",
    "    def start(self):\n",
    "        print(\"Bicycle started\")\n",
    "\n",
    "    def stop(self):\n",
    "        print(\"Bicycle stopped\")\n"
   ]
  },
  {
   "cell_type": "markdown",
   "id": "85e49ef1-03cc-451e-983a-3037765fa0fa",
   "metadata": {},
   "source": [
    "### 12. Describe the use of abstract properties in Python and how they can be employed in abstract classes."
   ]
  },
  {
   "cell_type": "code",
   "execution_count": 64,
   "id": "fe7cf0bd-8446-4d5a-a526-a0e46fa64143",
   "metadata": {},
   "outputs": [],
   "source": [
    "from abc import ABC, abstractmethod\n",
    "\n",
    "class MyAbstractClass(ABC):\n",
    "    @property\n",
    "    @abstractmethod\n",
    "    def my_abstract_property(self):\n",
    "        pass\n"
   ]
  },
  {
   "cell_type": "markdown",
   "id": "8989f54a-a489-4e28-96f9-5f4d748c710b",
   "metadata": {},
   "source": [
    "### 13. Create a Python class hierarchy for employees in a company (e.g., manager, developer, designer) and implement abstraction by defining a common `get_salary()` method."
   ]
  },
  {
   "cell_type": "code",
   "execution_count": 65,
   "id": "f345f9d8-f8bb-4a30-ad01-88b968d421ba",
   "metadata": {},
   "outputs": [],
   "source": [
    "class Employee(ABC):\n",
    "    @abstractmethod\n",
    "    def get_salary(self):\n",
    "        pass\n",
    "\n",
    "class Manager(Employee):\n",
    "    def get_salary(self):\n",
    "        return 5000\n",
    "\n",
    "class Developer(Employee):\n",
    "    def get_salary(self):\n",
    "        return 4000\n",
    "\n",
    "class Designer(Employee):\n",
    "    def get_salary(self):\n",
    "        return 4500\n"
   ]
  },
  {
   "cell_type": "markdown",
   "id": "5d25ab99-2cc3-49e2-b975-20ec26c25bcb",
   "metadata": {},
   "source": [
    "### 14. Discuss the differences between abstract classes and concrete classes in Python, including their\n",
    "instantiation."
   ]
  },
  {
   "cell_type": "markdown",
   "id": "732553ce-de2d-45a8-b396-2fca5327f21e",
   "metadata": {},
   "source": [
    "#### Abstract classes cannot be instantiated, while concrete classes can.\n",
    "#### Abstract classes may have abstract methods that must be implemented by subclasses.`"
   ]
  },
  {
   "cell_type": "markdown",
   "id": "bb038ba0-9c54-40f2-88a9-734a2aeed58d",
   "metadata": {},
   "source": [
    "### 15. Explain the concept of abstract data types (ADTs) and their role in achieving abstraction in Python."
   ]
  },
  {
   "cell_type": "markdown",
   "id": "22fcfa24-021b-4bd6-926b-462eb950acb7",
   "metadata": {
    "tags": []
   },
   "source": [
    "#### ADTs are high-level descriptions of data structures that focus on what operations can be performed, not how they are implemented.\n",
    "#### Abstraction allows the implementation details to be hidden, achieving the principles of ADTs."
   ]
  },
  {
   "cell_type": "markdown",
   "id": "8eb30a85-5ed1-4712-87fc-6a8f0f19269c",
   "metadata": {},
   "source": [
    "### 16. Create a Python class for a computer system, demonstrating abstraction by defining common methods (e.g., `power_on()`, `shutdown()`) in an abstract base class."
   ]
  },
  {
   "cell_type": "code",
   "execution_count": 66,
   "id": "cfd2ebb4-bca0-4901-b181-66229cef220b",
   "metadata": {},
   "outputs": [],
   "source": [
    "class ComputerSystem(ABC):\n",
    "    @abstractmethod\n",
    "    def power_on(self):\n",
    "        pass\n",
    "\n",
    "    @abstractmethod\n",
    "    def shutdown(self):\n",
    "        pass\n",
    "\n",
    "class Laptop(ComputerSystem):\n",
    "    def power_on(self):\n",
    "        print(\"Laptop powered on\")\n",
    "\n",
    "    def shutdown(self):\n",
    "        print(\"Laptop shut down\")\n"
   ]
  },
  {
   "cell_type": "markdown",
   "id": "7dee9195-0b69-405f-8a5f-5799f140a841",
   "metadata": {},
   "source": [
    "### 17. Discuss the benefits of using abstraction in large-scale software development projects."
   ]
  },
  {
   "cell_type": "markdown",
   "id": "0b25b7c1-f212-4b2a-8052-a541510cadb4",
   "metadata": {},
   "source": [
    "#### Code Reusability: Abstract classes provide a common interface for multiple classes.\n",
    "#### Modularity: Abstraction allows breaking down complex systems into manageable, modular components."
   ]
  },
  {
   "cell_type": "markdown",
   "id": "d07c76ba-de3c-4188-bb9d-b41969b729c8",
   "metadata": {},
   "source": [
    "### 18. Explain how abstraction enhances code reusability and modularity in Python programs."
   ]
  },
  {
   "cell_type": "markdown",
   "id": "99fb78ae-02bb-4fce-aed2-de63199743b6",
   "metadata": {},
   "source": [
    "#### Abstraction enables the creation of reusable and modular components.\n",
    "#### Code can be organized into meaningful abstractions, making it easier to maintain and extend."
   ]
  },
  {
   "cell_type": "markdown",
   "id": "d73dd17d-fdcd-4a18-8531-e0256949e69e",
   "metadata": {},
   "source": [
    "### 19. Create a Python class for a library system, implementing abstraction by defining common methods (e.g., `add_book()`, `borrow_book()`) in an abstract base class."
   ]
  },
  {
   "cell_type": "code",
   "execution_count": 67,
   "id": "2b2f6ef4-4193-4e49-aeb0-3aaa383358ad",
   "metadata": {},
   "outputs": [],
   "source": [
    "class LibraryItem(ABC):\n",
    "    @abstractmethod\n",
    "    def add_book(self, book):\n",
    "        pass\n",
    "\n",
    "    @abstractmethod\n",
    "    def borrow_book(self, book):\n",
    "        pass\n"
   ]
  },
  {
   "cell_type": "markdown",
   "id": "8cdd136b-d9bb-4c28-bb7e-856853db5563",
   "metadata": {},
   "source": [
    "## Composition:"
   ]
  },
  {
   "cell_type": "markdown",
   "id": "b2807faf-5b73-49de-a5ea-50415f5b4581",
   "metadata": {},
   "source": [
    "### 1. Explain the concept of composition in Python and how it is used to build complex objects from simpler ones."
   ]
  },
  {
   "cell_type": "markdown",
   "id": "d817b193-bb3f-4f05-a03c-95cd7cb92004",
   "metadata": {},
   "source": [
    "#### Composition is a concept in object-oriented programming (OOP) where complex objects are created by combining simpler objects. It involves creating relationships between objects, typically by including instances of other classes as attributes."
   ]
  },
  {
   "cell_type": "markdown",
   "id": "28be67bc-4ff3-4851-a586-4718439f38f6",
   "metadata": {},
   "source": [
    "### 2. Describe the difference between composition and inheritance in object-oriented programming."
   ]
  },
  {
   "cell_type": "markdown",
   "id": "d8a3886e-4334-45d6-8ca2-cc483894a768",
   "metadata": {},
   "source": [
    "#### Composition: Combines objects to create more complex ones. It emphasizes building relationships between classes through attributes.\n",
    "#### Inheritance: Creates a hierarchy of classes where a subclass inherits properties and behaviors from a superclass. It emphasizes an \"is-a\" relationship."
   ]
  },
  {
   "cell_type": "markdown",
   "id": "55a31fca-8aac-4a27-8d21-cafbef1ee5dc",
   "metadata": {},
   "source": [
    "### 3. Create a Python class called `Author` with attributes for name and birthdate. Then, create a `Book` class that contains an instance of `Author` as a composition. Provide an example of creating a `Book` object.\n"
   ]
  },
  {
   "cell_type": "code",
   "execution_count": 68,
   "id": "3fa859c1-e220-4be9-ad48-3867bb71b630",
   "metadata": {},
   "outputs": [],
   "source": [
    "class Author:\n",
    "    def __init__(self, name, birthdate):\n",
    "        self.name = name\n",
    "        self.birthdate = birthdate\n",
    "\n",
    "class Book:\n",
    "    def __init__(self, title, author, publication_year):\n",
    "        self.title = title\n",
    "        self.author = author  # Composition\n",
    "        self.publication_year = publication_year\n"
   ]
  },
  {
   "cell_type": "markdown",
   "id": "3eba5eed-4747-4912-b2dc-fc57bf40be5b",
   "metadata": {},
   "source": [
    "### 4. Discuss the benefits of using composition over inheritance in Python, especially in terms of code flexibility\n",
    "and reusability."
   ]
  },
  {
   "cell_type": "markdown",
   "id": "bdfdf24b-a8a6-4538-87d4-47ffc3dbfb1e",
   "metadata": {},
   "source": [
    "#### Code Flexibility: Composition allows for more flexible and dynamic relationships between classes.\n",
    "#### Code Reusability: Objects can be reused in various contexts without creating deep class hierarchies."
   ]
  },
  {
   "cell_type": "markdown",
   "id": "517d43e7-1488-44e9-931d-6f01727a0a75",
   "metadata": {},
   "source": [
    "### 5. How can you implement composition in Python classes? Provide examples of using composition to create\n",
    "complex objects."
   ]
  },
  {
   "cell_type": "code",
   "execution_count": 70,
   "id": "1db1b43b-8fc5-4808-9955-c9dfdd566dd9",
   "metadata": {},
   "outputs": [],
   "source": [
    "class Engine:\n",
    "    pass\n",
    "\n",
    "class Car:\n",
    "    def __init__(self):\n",
    "        self.engine = Engine()  # Composition\n"
   ]
  },
  {
   "cell_type": "markdown",
   "id": "e6b225cc-e94f-4b67-b752-23d1e98e3946",
   "metadata": {},
   "source": [
    "### 6. Create a Python class hierarchy for a music player system, using composition to represent playlists and\n",
    "songs."
   ]
  },
  {
   "cell_type": "code",
   "execution_count": 71,
   "id": "0c541e5b-6899-41a5-b404-885470990ca0",
   "metadata": {},
   "outputs": [],
   "source": [
    "class Song:\n",
    "    pass\n",
    "\n",
    "class Playlist:\n",
    "    def __init__(self):\n",
    "        self.songs = []  # Composition\n"
   ]
  },
  {
   "cell_type": "markdown",
   "id": "5ca182b8-6bbc-4220-ab63-fe8bb22b2896",
   "metadata": {},
   "source": [
    "### 7. Explain the concept of \"has-a\" relationships in composition and how it helps design software systems."
   ]
  },
  {
   "cell_type": "markdown",
   "id": "b1118d93-ef7c-4bb2-a052-da39fcd87627",
   "metadata": {},
   "source": [
    "#### Composition often represents a \"has-a\" relationship, where an object has other objects as its components.\n",
    "#### Example: A car \"has-a\" engine."
   ]
  },
  {
   "cell_type": "markdown",
   "id": "f061ea5f-83f5-40bb-90e2-623e321dcfc8",
   "metadata": {},
   "source": [
    "### 8. Create a Python class for a computer system, using composition to represent components like CPU, RAM,\n",
    "and storage devices."
   ]
  },
  {
   "cell_type": "code",
   "execution_count": 72,
   "id": "8d827f9d-be94-4e1c-b5f8-7513806ac42b",
   "metadata": {},
   "outputs": [],
   "source": [
    "class CPU:\n",
    "    pass\n",
    "\n",
    "class RAM:\n",
    "    pass\n",
    "\n",
    "class Computer:\n",
    "    def __init__(self):\n",
    "        self.cpu = CPU()  # Composition\n",
    "        self.ram = RAM()  # Composition\n"
   ]
  },
  {
   "cell_type": "markdown",
   "id": "9a3aa109-2ef1-49e8-9732-f1a01265b09b",
   "metadata": {},
   "source": [
    "### 9. Describe the concept of \"delegation\" in composition and how it simplifies the design of complex systems."
   ]
  },
  {
   "cell_type": "markdown",
   "id": "1100b5ee-ae3b-41f3-b3fa-d5c8e1dbbdaf",
   "metadata": {},
   "source": [
    "#### Delegation involves passing responsibility to another object.\n",
    "#### Composition simplifies complex systems by delegating specific functionalities to composed objects.\n",
    "#### Example: Delegating storage management to a separate Storage class."
   ]
  },
  {
   "cell_type": "markdown",
   "id": "4f5c9026-9f76-4c13-a6ba-35f5bec90611",
   "metadata": {},
   "source": [
    "### 10. Create a Python class for a car, using composition to represent components like the engine, wheels, and\n",
    "transmission."
   ]
  },
  {
   "cell_type": "code",
   "execution_count": 73,
   "id": "3765ce15-3f0f-4bd5-afab-7326279f9120",
   "metadata": {},
   "outputs": [],
   "source": [
    "class Engine:\n",
    "    pass\n",
    "\n",
    "class Wheels:\n",
    "    pass\n",
    "\n",
    "class Transmission:\n",
    "    pass\n",
    "\n",
    "class Car:\n",
    "    def __init__(self):\n",
    "        self.engine = Engine()  # Composition\n",
    "        self.wheels = Wheels()  # Composition\n",
    "        self.transmission = Transmission()  # Composition\n"
   ]
  },
  {
   "cell_type": "markdown",
   "id": "332b2aa5-4362-4bb8-8f5a-97c561494741",
   "metadata": {},
   "source": [
    "### 11. How can you encapsulate and hide the details of composed objects in Python classes to maintain\n",
    "abstraction?"
   ]
  },
  {
   "cell_type": "markdown",
   "id": "1386c284-5638-41ab-b547-28da2ef69307",
   "metadata": {},
   "source": [
    "#### Encapsulation can be maintained by providing controlled access to the internal details of composed objects.\n",
    "#### Example: Using getter and setter methods."
   ]
  },
  {
   "cell_type": "markdown",
   "id": "86a45999-4d18-41df-b4e1-6f7927341073",
   "metadata": {},
   "source": [
    "### 12. Create a Python class for a university course, using composition to represent students, instructors, and\n",
    "course materials."
   ]
  },
  {
   "cell_type": "code",
   "execution_count": 74,
   "id": "0c2ffb16-333c-47ff-94f8-9998859ba73a",
   "metadata": {},
   "outputs": [],
   "source": [
    "class Student:\n",
    "    pass\n",
    "\n",
    "class Instructor:\n",
    "    pass\n",
    "\n",
    "class Course:\n",
    "    def __init__(self):\n",
    "        self.students = []  # Composition\n",
    "        self.instructor = Instructor()  # Composition\n"
   ]
  },
  {
   "cell_type": "markdown",
   "id": "88b546d1-dfc2-48df-b1f2-e6347e7a4aee",
   "metadata": {},
   "source": [
    "### 13. Discuss the challenges and drawbacks of composition, such as increased complexity and potential for\n",
    "tight coupling between objects."
   ]
  },
  {
   "cell_type": "markdown",
   "id": "450c4c91-c2ed-44e5-92a6-3c8bb6dc38c2",
   "metadata": {},
   "source": [
    "#### Increased Complexity: Composed objects may introduce more complexity.\n",
    "#### Potential Tight Coupling: Care must be taken to avoid tight coupling between composed objects."
   ]
  },
  {
   "cell_type": "markdown",
   "id": "544db1e3-7670-493e-a435-51b0995811f4",
   "metadata": {},
   "source": [
    "### 14. Create a Python class hierarchy for a restaurant system, using composition to represent menus, dishes,\n",
    "and ingredients."
   ]
  },
  {
   "cell_type": "code",
   "execution_count": 75,
   "id": "a134ee14-8830-4999-a45e-a4f36e1a9b3b",
   "metadata": {},
   "outputs": [],
   "source": [
    "class Dish:\n",
    "    pass\n",
    "\n",
    "class Ingredient:\n",
    "    pass\n",
    "\n",
    "class Menu:\n",
    "    def __init__(self):\n",
    "        self.dishes = []  # Composition\n",
    "        self.ingredients = []  # Composition\n"
   ]
  },
  {
   "cell_type": "markdown",
   "id": "896ed85c-b520-4e4a-b23d-2ebdad31bdfe",
   "metadata": {},
   "source": [
    "### 15. Explain how composition enhances code maintainability and modularity in Python programs."
   ]
  },
  {
   "cell_type": "markdown",
   "id": "8a540436-02ce-413f-ae97-6499641ac0d4",
   "metadata": {},
   "source": [
    "#### Composition promotes modularity, making it easier to maintain and extend code.\n",
    "#### Changes to one part of the system do not necessarily impact other parts."
   ]
  },
  {
   "cell_type": "markdown",
   "id": "04c26289-46ff-44cb-9466-7662c37545b3",
   "metadata": {},
   "source": [
    "### 16. Create a Python class for a computer game character, using composition to represent attributes like\n",
    "weapons, armor, and inventory."
   ]
  },
  {
   "cell_type": "code",
   "execution_count": 76,
   "id": "e7e1ccf8-2d0b-4d78-8a31-08228dce82b5",
   "metadata": {},
   "outputs": [],
   "source": [
    "class Weapon:\n",
    "    pass\n",
    "\n",
    "class Armor:\n",
    "    pass\n",
    "\n",
    "class Inventory:\n",
    "    pass\n",
    "\n",
    "class Character:\n",
    "    def __init__(self):\n",
    "        self.weapon = Weapon()  # Composition\n",
    "        self.armor = Armor()  # Composition\n",
    "        self.inventory = Inventory()  # Composition\n"
   ]
  },
  {
   "cell_type": "markdown",
   "id": "372015a3-4f81-4834-b68b-51e0d6f8e1c2",
   "metadata": {},
   "source": [
    "### 17. Describe the concept of \"aggregation\" in composition and how it differs from simple composition."
   ]
  },
  {
   "cell_type": "markdown",
   "id": "f0582e69-a27a-4caf-bc24-296e7da8599f",
   "metadata": {},
   "source": [
    "#### Aggregation is a type of composition where objects can exist independently.\n",
    "Example: A library can aggregate books."
   ]
  }
 ],
 "metadata": {
  "kernelspec": {
   "display_name": "Python 3 (ipykernel)",
   "language": "python",
   "name": "python3"
  },
  "language_info": {
   "codemirror_mode": {
    "name": "ipython",
    "version": 3
   },
   "file_extension": ".py",
   "mimetype": "text/x-python",
   "name": "python",
   "nbconvert_exporter": "python",
   "pygments_lexer": "ipython3",
   "version": "3.10.8"
  }
 },
 "nbformat": 4,
 "nbformat_minor": 5
}
